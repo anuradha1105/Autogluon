{
  "cells": [
    {
      "cell_type": "code",
      "source": "# ==== System info ====\n!nvidia-smi -L || echo \"CPU-only runtime\"\n!python --version\n\n# ==== Install AutoGluon and Kaggle ====\n!pip install -U pip\n!pip install -U \"autogluon>=1.0\" kaggle\n\n# ==== Ensure folders exist ====\nimport os\nfor d in [\"data\",\"artifacts\"]:\n    os.makedirs(d, exist_ok=True)\nprint(\"Setup complete. Remember: Edit \u25b8 Notebook settings \u25b8 uncheck 'Omit code cell output when saving'.\")\n",
      "metadata": {},
      "outputs": [],
      "execution_count": null
    },
    {
      "cell_type": "code",
      "source": "# ---- In-depth demo with stacking ----\nfrom autogluon.tabular import TabularDataset, TabularPredictor\n\ntrain_data = TabularDataset('https://autogluon.s3.amazonaws.com/datasets/Inc/train.csv')\ntest_data  = TabularDataset('https://autogluon.s3.amazonaws.com/datasets/Inc/test.csv')\nlabel = 'class'\n\n# First level training\npredictor = TabularPredictor(label=label, path='ag_indepth/').fit(\n    train_data=train_data,\n    time_limit=900,\n    presets='best_quality'\n)\n\n# Show leaderboard and feature importance\nlb = predictor.leaderboard(test_data, silent=True)\nfi = predictor.feature_importance(test_data)\n\nlb_path = 'artifacts/indepth_leaderboard.csv'\nfi_path = 'artifacts/indepth_feature_importance.csv'\nlb.to_csv(lb_path, index=False)\nfi.to_csv(fi_path)\n\nprint(\"Saved:\", lb_path, fi_path)\nlb.head(10), fi.head(10)\n",
      "metadata": {},
      "outputs": [],
      "execution_count": null
    }
  ],
  "metadata": {
    "colab": {
      "name": "B2_tabular-indepth.ipynb"
    },
    "kernelspec": {
      "display_name": "Python 3",
      "language": "python",
      "name": "python3"
    },
    "language_info": {
      "name": "python",
      "version": "3.x"
    }
  },
  "nbformat": 4,
  "nbformat_minor": 5
}