{
  "cells": [
    {
      "cell_type": "code",
      "source": "# ==== System info ====\n!nvidia-smi -L || echo \"CPU-only runtime\"\n!python --version\n\n# ==== Install AutoGluon and Kaggle ====\n!pip install -U pip\n!pip install -U \"autogluon>=1.0\" kaggle\n\n# ==== Ensure folders exist ====\nimport os\nfor d in [\"data\",\"artifacts\"]:\n    os.makedirs(d, exist_ok=True)\nprint(\"Setup complete. Remember: Edit \u25b8 Notebook settings \u25b8 uncheck 'Omit code cell output when saving'.\")\n",
      "metadata": {},
      "outputs": [],
      "execution_count": null
    },
    {
      "cell_type": "code",
      "source": "# ---- Quick Start with built-in Adult Income dataset ----\nfrom autogluon.tabular import TabularDataset, TabularPredictor\n\ntrain_data = TabularDataset('https://autogluon.s3.amazonaws.com/datasets/Inc/train.csv')\ntest_data  = TabularDataset('https://autogluon.s3.amazonaws.com/datasets/Inc/test.csv')\nlabel = 'class'\n\npredictor = TabularPredictor(label=label, path='ag_quickstart/').fit(train_data, presets='medium_quality_faster_train', time_limit=600)\nlb = predictor.leaderboard(test_data, silent=True)\n\n# Export artifacts\nlb_path = 'artifacts/quickstart_leaderboard.csv'\nfi_path = 'artifacts/quickstart_feature_importance.csv'\nlb.to_csv(lb_path, index=False)\npredictor.feature_importance(test_data).to_csv(fi_path)\n\nprint(\"Saved:\", lb_path, fi_path)\nlb.head(10)\n",
      "metadata": {},
      "outputs": [],
      "execution_count": null
    }
  ],
  "metadata": {
    "colab": {
      "name": "B1_tabular-quickstart.ipynb"
    },
    "kernelspec": {
      "display_name": "Python 3",
      "language": "python",
      "name": "python3"
    },
    "language_info": {
      "name": "python",
      "version": "3.x"
    }
  },
  "nbformat": 4,
  "nbformat_minor": 5
}