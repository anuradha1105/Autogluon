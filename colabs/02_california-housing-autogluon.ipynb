{
  "cells": [
    {
      "cell_type": "code",
      "source": "# ==== System info ====\n!nvidia-smi -L || echo \"CPU-only runtime\"\n!python --version\n\n# ==== Install AutoGluon and Kaggle ====\n!pip install -U pip\n!pip install -U \"autogluon>=1.0\" kaggle\n\n# ==== Ensure folders exist ====\nimport os\nfor d in [\"data\",\"artifacts\"]:\n    os.makedirs(d, exist_ok=True)\nprint(\"Setup complete. Remember: Edit \u25b8 Notebook settings \u25b8 uncheck 'Omit code cell output when saving'.\")\n",
      "metadata": {},
      "outputs": [],
      "execution_count": null
    },
    {
      "cell_type": "code",
      "source": "# ---- Load dataset (scikit-learn California Housing) ----\nfrom sklearn.datasets import fetch_california_housing\nimport pandas as pd\nfrom autogluon.tabular import TabularPredictor\n\ncal = fetch_california_housing(as_frame=True)\ndf = cal.frame.copy()\ndf.rename(columns={'MedHouseVal': 'SalePrice'}, inplace=True)\n\ntrain = df.sample(frac=0.8, random_state=42)\ntest  = df.drop(train.index)\nprint(\"Train/Test shapes:\", train.shape, test.shape)\n",
      "metadata": {},
      "outputs": [],
      "execution_count": null
    },
    {
      "cell_type": "code",
      "source": "# ---- Train predictor ----\npredictor = TabularPredictor(label='SalePrice', problem_type='regression', path='ag_cal/').fit(\n    train_data=train,\n    time_limit=900,                  # increase if you can\n    presets='medium_quality_faster_train'   # try 'best_quality' if you have time\n)\nprint(\"Training complete.\")\n",
      "metadata": {},
      "outputs": [],
      "execution_count": null
    },
    {
      "cell_type": "code",
      "source": "# ---- Evaluate & export artifacts ----\nlb = predictor.leaderboard(test, silent=True)\nfi = predictor.feature_importance(test)\n\nlb_path = 'artifacts/cal_housing_leaderboard.csv'\nfi_path = 'artifacts/cal_housing_feature_importance.csv'\nlb.to_csv(lb_path, index=False)\nfi.to_csv(fi_path)\n\npreds = predictor.predict(test.drop(columns=['SalePrice']))\nout = pd.concat([test[['SalePrice']].reset_index(drop=True), preds.rename('Predicted')], axis=1)\n\nprint(\"Saved:\", lb_path, fi_path)\nlb.head(10), fi.head(10), out.head(10)\n",
      "metadata": {},
      "outputs": [],
      "execution_count": null
    }
  ],
  "metadata": {
    "colab": {
      "name": "02_california-housing-autogluon.ipynb"
    },
    "kernelspec": {
      "display_name": "Python 3",
      "language": "python",
      "name": "python3"
    },
    "language_info": {
      "name": "python",
      "version": "3.x"
    }
  },
  "nbformat": 4,
  "nbformat_minor": 5
}