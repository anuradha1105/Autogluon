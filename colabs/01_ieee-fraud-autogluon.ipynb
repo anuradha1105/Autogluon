{
  "cells": [
    {
      "cell_type": "code",
      "source": "# ==== System info ====\n!nvidia-smi -L || echo \"CPU-only runtime\"\n!python --version\n\n# ==== Install AutoGluon and Kaggle ====\n!pip install -U pip\n!pip install -U \"autogluon>=1.0\" kaggle\n\n# ==== Ensure folders exist ====\nimport os\nfor d in [\"data\",\"artifacts\"]:\n    os.makedirs(d, exist_ok=True)\nprint(\"Setup complete. Remember: Edit \u25b8 Notebook settings \u25b8 uncheck 'Omit code cell output when saving'.\")\n",
      "metadata": {},
      "outputs": [],
      "execution_count": null
    },
    {
      "cell_type": "code",
      "source": "# ==== Kaggle API setup ====\nfrom google.colab import files\nfrom pathlib import Path\nimport os\n\nprint(\"Upload kaggle.json (Kaggle \u25b8 Account \u25b8 Create New API Token)\")\nuploaded = files.upload()  # choose kaggle.json from your computer\n\nPath(\"/root/.kaggle\").mkdir(parents=True, exist_ok=True)\nwith open(\"/root/.kaggle/kaggle.json\",\"wb\") as f:\n    f.write(uploaded['kaggle.json'])\nos.chmod(\"/root/.kaggle/kaggle.json\", 0o600)\n\n!kaggle competitions list -s fraud | head -n 5\n",
      "metadata": {},
      "outputs": [],
      "execution_count": null
    },
    {
      "cell_type": "code",
      "source": "# ---- Download & unzip ----\n!kaggle competitions download -c ieee-fraud-detection -p data\n!unzip -qo data/ieee-fraud-detection.zip -d data/ieee\nprint(\"Files in data/ieee:\", !ls -1 data/ieee | head -n 10)\n",
      "metadata": {},
      "outputs": [],
      "execution_count": null
    },
    {
      "cell_type": "code",
      "source": "# ---- Load & merge ----\nimport pandas as pd\ntrain_tr = pd.read_csv('data/ieee/train_transaction.csv')\ntrain_id = pd.read_csv('data/ieee/train_identity.csv')\ntest_tr  = pd.read_csv('data/ieee/test_transaction.csv')\ntest_id  = pd.read_csv('data/ieee/test_identity.csv')\n\ntrain = train_tr.merge(train_id, how='left', on='TransactionID')\ntest  = test_tr.merge(test_id,  how='left', on='TransactionID')\n\nprint(\"Shapes:\", train.shape, test.shape)\nprint(\"Target distribution:\", train['isFraud'].value_counts(normalize=True))\n",
      "metadata": {},
      "outputs": [],
      "execution_count": null
    },
    {
      "cell_type": "code",
      "source": "# ---- Optional speed tweak: downcast floats ----\nfor df in (train, test):\n    for c in df.select_dtypes(include=['float64']).columns:\n        df[c] = df[c].astype('float32')\nprint('Downcast done')\n",
      "metadata": {},
      "outputs": [],
      "execution_count": null
    },
    {
      "cell_type": "code",
      "source": "# ---- Train AutoGluon ----\nfrom autogluon.tabular import TabularPredictor\n\nlabel = 'isFraud'\npredictor = TabularPredictor(label=label, problem_type='binary', path='ag_ieee/').fit(\n    train_data=train,\n    time_limit=1800,                  # adjust for longer/better training (e.g., 3600)\n    presets='medium_quality_faster_train',  # swap to 'best_quality' if you have more time\n)\nprint(\"Training complete.\")\n",
      "metadata": {},
      "outputs": [],
      "execution_count": null
    },
    {
      "cell_type": "code",
      "source": "# ---- Leaderboard & Feature Importance \u2192 artifacts/ ----\nlb = predictor.leaderboard(silent=True)\nfi = predictor.feature_importance(train)\n\nlb_path = 'artifacts/ieee_fraud_leaderboard.csv'\nfi_path = 'artifacts/ieee_fraud_feature_importance.csv'\nlb.to_csv(lb_path, index=False)\nfi.to_csv(fi_path)\n\nprint(\"Saved:\", lb_path, fi_path)\nlb.head(10), fi.head(10)\n",
      "metadata": {},
      "outputs": [],
      "execution_count": null
    },
    {
      "cell_type": "code",
      "source": "# ---- Predictions for Kaggle submission ----\nprobas = predictor.predict_proba(test)\nsub = pd.DataFrame({\n    'TransactionID': test['TransactionID'],\n    'isFraud': probas[1],  # probability of positive class\n})\nsub_path = 'artifacts/ieee_fraud_submission.csv'\nsub.to_csv(sub_path, index=False)\nprint(\"Saved:\", sub_path)\nsub.head()\n",
      "metadata": {},
      "outputs": [],
      "execution_count": null
    }
  ],
  "metadata": {
    "colab": {
      "name": "01_ieee-fraud-autogluon.ipynb"
    },
    "kernelspec": {
      "display_name": "Python 3",
      "language": "python",
      "name": "python3"
    },
    "language_info": {
      "name": "python",
      "version": "3.x"
    }
  },
  "nbformat": 4,
  "nbformat_minor": 5
}