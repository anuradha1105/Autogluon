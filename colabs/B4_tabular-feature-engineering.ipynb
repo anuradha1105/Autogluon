{
  "cells": [
    {
      "cell_type": "code",
      "source": "# ==== System info ====\n!nvidia-smi -L || echo \"CPU-only runtime\"\n!python --version\n\n# ==== Install AutoGluon and Kaggle ====\n!pip install -U pip\n!pip install -U \"autogluon>=1.0\" kaggle\n\n# ==== Ensure folders exist ====\nimport os\nfor d in [\"data\",\"artifacts\"]:\n    os.makedirs(d, exist_ok=True)\nprint(\"Setup complete. Remember: Edit \u25b8 Notebook settings \u25b8 uncheck 'Omit code cell output when saving'.\")\n",
      "metadata": {},
      "outputs": [],
      "execution_count": null
    },
    {
      "cell_type": "code",
      "source": "# ---- Automatic feature engineering demo ----\nfrom autogluon.tabular import TabularDataset, TabularPredictor\nfrom autogluon.features.generators import AutoMLPipelineFeatureGenerator\nimport pandas as pd\n\ntrain = TabularDataset('https://autogluon.s3.amazonaws.com/datasets/Inc/train.csv')\ntest  = TabularDataset('https://autogluon.s3.amazonaws.com/datasets/Inc/test.csv')\nlabel = 'class'\n\n# Fit a feature generator to inspect engineered features\nfg = AutoMLPipelineFeatureGenerator(enable_categorical_special=True, enable_text_special=True)\nX_train = train.drop(columns=[label])\nfg.fit(X=X_train)\nX_train_transformed = fg.transform(X_train)\n\n# Save engineered feature names\nfeat_list_path = 'artifacts/feature_engineering_columns.txt'\nwith open(feat_list_path, 'w') as f:\n    f.write(\"\\n\".join(list(X_train_transformed.columns)))\n\nprint(f\"Engineered {X_train_transformed.shape[1]} features. Saved list to {feat_list_path}\")\n\n# Train a predictor using engineered features (AutoGluon handles its own pipeline internally)\npredictor = TabularPredictor(label=label, path='ag_feature_eng/').fit(\n    train_data=train,\n    time_limit=600,\n    presets='medium_quality_faster_train'\n)\n\nlb = predictor.leaderboard(test, silent=True)\nlb_path = 'artifacts/feature_eng_leaderboard.csv'\nlb.to_csv(lb_path, index=False)\nprint(\"Saved:\", lb_path)\nlb.head(10)\n",
      "metadata": {},
      "outputs": [],
      "execution_count": null
    }
  ],
  "metadata": {
    "colab": {
      "name": "B4_tabular-feature-engineering.ipynb"
    },
    "kernelspec": {
      "display_name": "Python 3",
      "language": "python",
      "name": "python3"
    },
    "language_info": {
      "name": "python",
      "version": "3.x"
    }
  },
  "nbformat": 4,
  "nbformat_minor": 5
}