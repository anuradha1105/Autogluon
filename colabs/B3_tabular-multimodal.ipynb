{
  "cells": [
    {
      "cell_type": "code",
      "source": "# ==== System info ====\n!nvidia-smi -L || echo \"CPU-only runtime\"\n!python --version\n\n# ==== Install AutoGluon and Kaggle ====\n!pip install -U pip\n!pip install -U \"autogluon>=1.0\" kaggle\n\n# ==== Ensure folders exist ====\nimport os\nfor d in [\"data\",\"artifacts\"]:\n    os.makedirs(d, exist_ok=True)\nprint(\"Setup complete. Remember: Edit \u25b8 Notebook settings \u25b8 uncheck 'Omit code cell output when saving'.\")\n",
      "metadata": {},
      "outputs": [],
      "execution_count": null
    },
    {
      "cell_type": "code",
      "source": "# ---- Multimodal tabular demo: add text feature ----\nimport pandas as pd\nfrom autogluon.tabular import TabularDataset, TabularPredictor\n\ntrain = TabularDataset('https://autogluon.s3.amazonaws.com/datasets/Inc/train.csv')\ntest  = TabularDataset('https://autogluon.s3.amazonaws.com/datasets/Inc/test.csv')\nlabel = 'class'\n\n# Create a simple text feature by concatenating a few columns\ndef add_text_feature(df):\n    df = df.copy()\n    cols = [c for c in df.columns if c != label]\n    use = [c for c in cols if df[c].dtype == 'object'][:3]  # take a few cat columns\n    if len(use) >= 2:\n        df['desc_text'] = df[use].astype(str).agg(' '.join, axis=1)\n    else:\n        df['desc_text'] = df[cols].astype(str).agg(' '.join, axis=1)\n    return df\n\ntrain_mm = add_text_feature(train)\ntest_mm  = add_text_feature(test)\n\npredictor = TabularPredictor(label=label, path='ag_multimodal/').fit(\n    train_data=train_mm,\n    time_limit=900,\n    presets='medium_quality_faster_train'\n)\n\nlb = predictor.leaderboard(test_mm, silent=True)\nfi = predictor.feature_importance(test_mm)\n\nlb_path = 'artifacts/multimodal_leaderboard.csv'\nfi_path = 'artifacts/multimodal_feature_importance.csv'\nlb.to_csv(lb_path, index=False)\nfi.to_csv(fi_path)\n\nprint(\"Saved:\", lb_path, fi_path)\nlb.head(10), fi.head(10)\n",
      "metadata": {},
      "outputs": [],
      "execution_count": null
    }
  ],
  "metadata": {
    "colab": {
      "name": "B3_tabular-multimodal.ipynb"
    },
    "kernelspec": {
      "display_name": "Python 3",
      "language": "python",
      "name": "python3"
    },
    "language_info": {
      "name": "python",
      "version": "3.x"
    }
  },
  "nbformat": 4,
  "nbformat_minor": 5
}