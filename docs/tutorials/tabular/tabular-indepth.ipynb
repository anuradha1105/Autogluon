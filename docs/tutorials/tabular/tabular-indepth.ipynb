{
  "cells": [
    {
      "cell_type": "markdown",
      "id": "487344de",
      "metadata": {
        "id": "487344de"
      },
      "source": [
        "# AutoGluon Tabular - In Depth\n",
        "\n",
        "[![Open In Colab](https://colab.research.google.com/assets/colab-badge.svg)](https://colab.research.google.com/github/autogluon/autogluon/blob/stable/docs/tutorials/tabular/tabular-indepth.ipynb)\n",
        "[![Open In SageMaker Studio Lab](https://studiolab.sagemaker.aws/studiolab.svg)](https://studiolab.sagemaker.aws/import/github/autogluon/autogluon/blob/stable/docs/tutorials/tabular/tabular-indepth.ipynb)\n",
        "\n",
        "\n",
        "**Tip**: If you are new to AutoGluon, review [Predicting Columns in a Table - Quick Start](tabular-quick-start.ipynb) to learn the basics of the AutoGluon API. To learn how to add your own custom models to the set that AutoGluon trains, tunes, and ensembles, review [Adding a custom model to AutoGluon](advanced/tabular-custom-model.ipynb).\n",
        "\n",
        "This tutorial describes how you can exert greater control when using AutoGluon's `fit()` or `predict()`. Recall that to maximize predictive performance, you should first try `TabularPredictor()` and `fit()` with all default arguments.  Then, consider non-default arguments for `TabularPredictor(eval_metric=...)`, and `fit(presets=...)`.  Later, you can experiment with other arguments to fit() covered in this in-depth tutorial like `hyperparameter_tune_kwargs`, `hyperparameters`, `num_stack_levels`, `num_bag_folds`, `num_bag_sets`, etc.\n",
        "\n",
        "Using the same census data table as in the [Predicting Columns in a Table - Quick Start](tabular-quick-start.ipynb) tutorial, we'll now predict the `occupation` of an individual - a multiclass classification problem. Start by importing AutoGluon's TabularPredictor and TabularDataset, and loading the data."
      ]
    },
    {
      "cell_type": "code",
      "execution_count": 3,
      "id": "aa00faab-252f-44c9-b8f7-57131aa8251c",
      "metadata": {
        "tags": [
          "remove-cell"
        ],
        "id": "aa00faab-252f-44c9-b8f7-57131aa8251c",
        "outputId": "332c636f-317a-4110-9c72-015b7d6c2d0f",
        "colab": {
          "base_uri": "https://localhost:8080/"
        }
      },
      "outputs": [
        {
          "output_type": "stream",
          "name": "stdout",
          "text": [
            "Requirement already satisfied: autogluon.tabular[all] in /usr/local/lib/python3.12/dist-packages (1.4.0)\n",
            "Requirement already satisfied: numpy<2.4.0,>=1.25.0 in /usr/local/lib/python3.12/dist-packages (from autogluon.tabular[all]) (2.0.2)\n",
            "Requirement already satisfied: scipy<1.17,>=1.5.4 in /usr/local/lib/python3.12/dist-packages (from autogluon.tabular[all]) (1.16.2)\n",
            "Requirement already satisfied: pandas<2.4.0,>=2.0.0 in /usr/local/lib/python3.12/dist-packages (from autogluon.tabular[all]) (2.2.2)\n",
            "Requirement already satisfied: scikit-learn<1.8.0,>=1.4.0 in /usr/local/lib/python3.12/dist-packages (from autogluon.tabular[all]) (1.6.1)\n",
            "Requirement already satisfied: networkx<4,>=3.0 in /usr/local/lib/python3.12/dist-packages (from autogluon.tabular[all]) (3.5)\n",
            "Requirement already satisfied: autogluon.core==1.4.0 in /usr/local/lib/python3.12/dist-packages (from autogluon.tabular[all]) (1.4.0)\n",
            "Requirement already satisfied: autogluon.features==1.4.0 in /usr/local/lib/python3.12/dist-packages (from autogluon.tabular[all]) (1.4.0)\n",
            "Requirement already satisfied: catboost<1.3,>=1.2 in /usr/local/lib/python3.12/dist-packages (from autogluon.tabular[all]) (1.2.8)\n",
            "Requirement already satisfied: fastai<2.9,>=2.3.1 in /usr/local/lib/python3.12/dist-packages (from autogluon.tabular[all]) (2.8.4)\n",
            "Requirement already satisfied: loguru in /usr/local/lib/python3.12/dist-packages (from autogluon.tabular[all]) (0.7.3)\n",
            "Requirement already satisfied: lightgbm<4.7,>=4.0 in /usr/local/lib/python3.12/dist-packages (from autogluon.tabular[all]) (4.6.0)\n",
            "Requirement already satisfied: einx in /usr/local/lib/python3.12/dist-packages (from autogluon.tabular[all]) (0.3.0)\n",
            "Requirement already satisfied: xgboost<3.1,>=2.0 in /usr/local/lib/python3.12/dist-packages (from autogluon.tabular[all]) (3.0.5)\n",
            "Requirement already satisfied: transformers in /usr/local/lib/python3.12/dist-packages (from autogluon.tabular[all]) (4.57.0)\n",
            "Requirement already satisfied: spacy<3.9 in /usr/local/lib/python3.12/dist-packages (from autogluon.tabular[all]) (3.8.7)\n",
            "Requirement already satisfied: torch<2.8,>=2.2 in /usr/local/lib/python3.12/dist-packages (from autogluon.tabular[all]) (2.7.1)\n",
            "Requirement already satisfied: omegaconf in /usr/local/lib/python3.12/dist-packages (from autogluon.tabular[all]) (2.3.0)\n",
            "Requirement already satisfied: huggingface-hub[torch] in /usr/local/lib/python3.12/dist-packages (from autogluon.tabular[all]) (0.35.3)\n",
            "Requirement already satisfied: tqdm<5,>=4.38 in /usr/local/lib/python3.12/dist-packages (from autogluon.core==1.4.0->autogluon.tabular[all]) (4.67.1)\n",
            "Requirement already satisfied: requests in /usr/local/lib/python3.12/dist-packages (from autogluon.core==1.4.0->autogluon.tabular[all]) (2.32.4)\n",
            "Requirement already satisfied: matplotlib<3.11,>=3.7.0 in /usr/local/lib/python3.12/dist-packages (from autogluon.core==1.4.0->autogluon.tabular[all]) (3.10.0)\n",
            "Requirement already satisfied: boto3<2,>=1.10 in /usr/local/lib/python3.12/dist-packages (from autogluon.core==1.4.0->autogluon.tabular[all]) (1.40.51)\n",
            "Requirement already satisfied: autogluon.common==1.4.0 in /usr/local/lib/python3.12/dist-packages (from autogluon.core==1.4.0->autogluon.tabular[all]) (1.4.0)\n",
            "Requirement already satisfied: hyperopt<0.2.8,>=0.2.7 in /usr/local/lib/python3.12/dist-packages (from autogluon.core[all]==1.4.0; extra == \"all\"->autogluon.tabular[all]) (0.2.7)\n",
            "Requirement already satisfied: pyarrow>=15.0.0 in /usr/local/lib/python3.12/dist-packages (from autogluon.core[all]==1.4.0; extra == \"all\"->autogluon.tabular[all]) (18.1.0)\n",
            "Requirement already satisfied: ray<2.45,>=2.10.0 in /usr/local/lib/python3.12/dist-packages (from ray[default,tune]<2.45,>=2.10.0; extra == \"all\"->autogluon.core[all]==1.4.0; extra == \"all\"->autogluon.tabular[all]) (2.44.1)\n",
            "Requirement already satisfied: psutil<7.1.0,>=5.7.3 in /usr/local/lib/python3.12/dist-packages (from autogluon.common==1.4.0->autogluon.core==1.4.0->autogluon.tabular[all]) (5.9.5)\n",
            "Requirement already satisfied: joblib<1.7,>=1.2 in /usr/local/lib/python3.12/dist-packages (from autogluon.common==1.4.0->autogluon.core==1.4.0->autogluon.tabular[all]) (1.5.2)\n",
            "Requirement already satisfied: graphviz in /usr/local/lib/python3.12/dist-packages (from catboost<1.3,>=1.2->autogluon.tabular[all]) (0.21)\n",
            "Requirement already satisfied: plotly in /usr/local/lib/python3.12/dist-packages (from catboost<1.3,>=1.2->autogluon.tabular[all]) (5.24.1)\n",
            "Requirement already satisfied: six in /usr/local/lib/python3.12/dist-packages (from catboost<1.3,>=1.2->autogluon.tabular[all]) (1.17.0)\n",
            "Requirement already satisfied: pip in /usr/local/lib/python3.12/dist-packages (from fastai<2.9,>=2.3.1->autogluon.tabular[all]) (24.1.2)\n",
            "Requirement already satisfied: packaging in /usr/local/lib/python3.12/dist-packages (from fastai<2.9,>=2.3.1->autogluon.tabular[all]) (25.0)\n",
            "Requirement already satisfied: fastdownload<2,>=0.0.5 in /usr/local/lib/python3.12/dist-packages (from fastai<2.9,>=2.3.1->autogluon.tabular[all]) (0.0.7)\n",
            "Requirement already satisfied: fastcore<1.9,>=1.8.0 in /usr/local/lib/python3.12/dist-packages (from fastai<2.9,>=2.3.1->autogluon.tabular[all]) (1.8.12)\n",
            "Requirement already satisfied: fasttransform>=0.0.2 in /usr/local/lib/python3.12/dist-packages (from fastai<2.9,>=2.3.1->autogluon.tabular[all]) (0.0.2)\n",
            "Requirement already satisfied: torchvision>=0.11 in /usr/local/lib/python3.12/dist-packages (from fastai<2.9,>=2.3.1->autogluon.tabular[all]) (0.22.1)\n",
            "Requirement already satisfied: pyyaml in /usr/local/lib/python3.12/dist-packages (from fastai<2.9,>=2.3.1->autogluon.tabular[all]) (6.0.3)\n",
            "Requirement already satisfied: fastprogress>=0.2.4 in /usr/local/lib/python3.12/dist-packages (from fastai<2.9,>=2.3.1->autogluon.tabular[all]) (1.0.3)\n",
            "Requirement already satisfied: pillow>=9.0.0 in /usr/local/lib/python3.12/dist-packages (from fastai<2.9,>=2.3.1->autogluon.tabular[all]) (11.3.0)\n",
            "Requirement already satisfied: plum-dispatch in /usr/local/lib/python3.12/dist-packages (from fastai<2.9,>=2.3.1->autogluon.tabular[all]) (2.5.8)\n",
            "Requirement already satisfied: cloudpickle in /usr/local/lib/python3.12/dist-packages (from fastai<2.9,>=2.3.1->autogluon.tabular[all]) (3.1.1)\n",
            "Requirement already satisfied: python-dateutil>=2.8.2 in /usr/local/lib/python3.12/dist-packages (from pandas<2.4.0,>=2.0.0->autogluon.tabular[all]) (2.9.0.post0)\n",
            "Requirement already satisfied: pytz>=2020.1 in /usr/local/lib/python3.12/dist-packages (from pandas<2.4.0,>=2.0.0->autogluon.tabular[all]) (2025.2)\n",
            "Requirement already satisfied: tzdata>=2022.7 in /usr/local/lib/python3.12/dist-packages (from pandas<2.4.0,>=2.0.0->autogluon.tabular[all]) (2025.2)\n",
            "Requirement already satisfied: threadpoolctl>=3.1.0 in /usr/local/lib/python3.12/dist-packages (from scikit-learn<1.8.0,>=1.4.0->autogluon.tabular[all]) (3.6.0)\n",
            "Requirement already satisfied: spacy-legacy<3.1.0,>=3.0.11 in /usr/local/lib/python3.12/dist-packages (from spacy<3.9->autogluon.tabular[all]) (3.0.12)\n",
            "Requirement already satisfied: spacy-loggers<2.0.0,>=1.0.0 in /usr/local/lib/python3.12/dist-packages (from spacy<3.9->autogluon.tabular[all]) (1.0.5)\n",
            "Requirement already satisfied: murmurhash<1.1.0,>=0.28.0 in /usr/local/lib/python3.12/dist-packages (from spacy<3.9->autogluon.tabular[all]) (1.0.13)\n",
            "Requirement already satisfied: cymem<2.1.0,>=2.0.2 in /usr/local/lib/python3.12/dist-packages (from spacy<3.9->autogluon.tabular[all]) (2.0.11)\n",
            "Requirement already satisfied: preshed<3.1.0,>=3.0.2 in /usr/local/lib/python3.12/dist-packages (from spacy<3.9->autogluon.tabular[all]) (3.0.10)\n",
            "Requirement already satisfied: thinc<8.4.0,>=8.3.4 in /usr/local/lib/python3.12/dist-packages (from spacy<3.9->autogluon.tabular[all]) (8.3.6)\n",
            "Requirement already satisfied: wasabi<1.2.0,>=0.9.1 in /usr/local/lib/python3.12/dist-packages (from spacy<3.9->autogluon.tabular[all]) (1.1.3)\n",
            "Requirement already satisfied: srsly<3.0.0,>=2.4.3 in /usr/local/lib/python3.12/dist-packages (from spacy<3.9->autogluon.tabular[all]) (2.5.1)\n",
            "Requirement already satisfied: catalogue<2.1.0,>=2.0.6 in /usr/local/lib/python3.12/dist-packages (from spacy<3.9->autogluon.tabular[all]) (2.0.10)\n",
            "Requirement already satisfied: weasel<0.5.0,>=0.1.0 in /usr/local/lib/python3.12/dist-packages (from spacy<3.9->autogluon.tabular[all]) (0.4.1)\n",
            "Requirement already satisfied: typer<1.0.0,>=0.3.0 in /usr/local/lib/python3.12/dist-packages (from spacy<3.9->autogluon.tabular[all]) (0.19.2)\n",
            "Requirement already satisfied: pydantic!=1.8,!=1.8.1,<3.0.0,>=1.7.4 in /usr/local/lib/python3.12/dist-packages (from spacy<3.9->autogluon.tabular[all]) (2.11.10)\n",
            "Requirement already satisfied: jinja2 in /usr/local/lib/python3.12/dist-packages (from spacy<3.9->autogluon.tabular[all]) (3.1.6)\n",
            "Requirement already satisfied: setuptools in /usr/local/lib/python3.12/dist-packages (from spacy<3.9->autogluon.tabular[all]) (75.2.0)\n",
            "Requirement already satisfied: langcodes<4.0.0,>=3.2.0 in /usr/local/lib/python3.12/dist-packages (from spacy<3.9->autogluon.tabular[all]) (3.5.0)\n",
            "Requirement already satisfied: filelock in /usr/local/lib/python3.12/dist-packages (from torch<2.8,>=2.2->autogluon.tabular[all]) (3.20.0)\n",
            "Requirement already satisfied: typing-extensions>=4.10.0 in /usr/local/lib/python3.12/dist-packages (from torch<2.8,>=2.2->autogluon.tabular[all]) (4.15.0)\n",
            "Requirement already satisfied: sympy>=1.13.3 in /usr/local/lib/python3.12/dist-packages (from torch<2.8,>=2.2->autogluon.tabular[all]) (1.13.3)\n",
            "Requirement already satisfied: fsspec in /usr/local/lib/python3.12/dist-packages (from torch<2.8,>=2.2->autogluon.tabular[all]) (2025.3.0)\n",
            "Requirement already satisfied: nvidia-cuda-nvrtc-cu12==12.6.77 in /usr/local/lib/python3.12/dist-packages (from torch<2.8,>=2.2->autogluon.tabular[all]) (12.6.77)\n",
            "Requirement already satisfied: nvidia-cuda-runtime-cu12==12.6.77 in /usr/local/lib/python3.12/dist-packages (from torch<2.8,>=2.2->autogluon.tabular[all]) (12.6.77)\n",
            "Requirement already satisfied: nvidia-cuda-cupti-cu12==12.6.80 in /usr/local/lib/python3.12/dist-packages (from torch<2.8,>=2.2->autogluon.tabular[all]) (12.6.80)\n",
            "Requirement already satisfied: nvidia-cudnn-cu12==9.5.1.17 in /usr/local/lib/python3.12/dist-packages (from torch<2.8,>=2.2->autogluon.tabular[all]) (9.5.1.17)\n",
            "Requirement already satisfied: nvidia-cublas-cu12==12.6.4.1 in /usr/local/lib/python3.12/dist-packages (from torch<2.8,>=2.2->autogluon.tabular[all]) (12.6.4.1)\n",
            "Requirement already satisfied: nvidia-cufft-cu12==11.3.0.4 in /usr/local/lib/python3.12/dist-packages (from torch<2.8,>=2.2->autogluon.tabular[all]) (11.3.0.4)\n",
            "Requirement already satisfied: nvidia-curand-cu12==10.3.7.77 in /usr/local/lib/python3.12/dist-packages (from torch<2.8,>=2.2->autogluon.tabular[all]) (10.3.7.77)\n",
            "Requirement already satisfied: nvidia-cusolver-cu12==11.7.1.2 in /usr/local/lib/python3.12/dist-packages (from torch<2.8,>=2.2->autogluon.tabular[all]) (11.7.1.2)\n",
            "Requirement already satisfied: nvidia-cusparse-cu12==12.5.4.2 in /usr/local/lib/python3.12/dist-packages (from torch<2.8,>=2.2->autogluon.tabular[all]) (12.5.4.2)\n",
            "Requirement already satisfied: nvidia-cusparselt-cu12==0.6.3 in /usr/local/lib/python3.12/dist-packages (from torch<2.8,>=2.2->autogluon.tabular[all]) (0.6.3)\n",
            "Requirement already satisfied: nvidia-nccl-cu12==2.26.2 in /usr/local/lib/python3.12/dist-packages (from torch<2.8,>=2.2->autogluon.tabular[all]) (2.26.2)\n",
            "Requirement already satisfied: nvidia-nvtx-cu12==12.6.77 in /usr/local/lib/python3.12/dist-packages (from torch<2.8,>=2.2->autogluon.tabular[all]) (12.6.77)\n",
            "Requirement already satisfied: nvidia-nvjitlink-cu12==12.6.85 in /usr/local/lib/python3.12/dist-packages (from torch<2.8,>=2.2->autogluon.tabular[all]) (12.6.85)\n",
            "Requirement already satisfied: nvidia-cufile-cu12==1.11.1.6 in /usr/local/lib/python3.12/dist-packages (from torch<2.8,>=2.2->autogluon.tabular[all]) (1.11.1.6)\n",
            "Requirement already satisfied: triton==3.3.1 in /usr/local/lib/python3.12/dist-packages (from torch<2.8,>=2.2->autogluon.tabular[all]) (3.3.1)\n",
            "Requirement already satisfied: frozendict in /usr/local/lib/python3.12/dist-packages (from einx->autogluon.tabular[all]) (2.4.6)\n",
            "Requirement already satisfied: hf-xet<2.0.0,>=1.1.3 in /usr/local/lib/python3.12/dist-packages (from huggingface-hub[torch]; extra == \"all\"->autogluon.tabular[all]) (1.1.10)\n",
            "Requirement already satisfied: safetensors[torch] in /usr/local/lib/python3.12/dist-packages (from huggingface-hub[torch]; extra == \"all\"->autogluon.tabular[all]) (0.6.2)\n",
            "Requirement already satisfied: antlr4-python3-runtime==4.9.* in /usr/local/lib/python3.12/dist-packages (from omegaconf->autogluon.tabular[all]) (4.9.3)\n",
            "Requirement already satisfied: regex!=2019.12.17 in /usr/local/lib/python3.12/dist-packages (from transformers->autogluon.tabular[all]) (2024.11.6)\n",
            "Requirement already satisfied: tokenizers<=0.23.0,>=0.22.0 in /usr/local/lib/python3.12/dist-packages (from transformers->autogluon.tabular[all]) (0.22.1)\n",
            "Requirement already satisfied: botocore<1.41.0,>=1.40.51 in /usr/local/lib/python3.12/dist-packages (from boto3<2,>=1.10->autogluon.core==1.4.0->autogluon.tabular[all]) (1.40.51)\n",
            "Requirement already satisfied: jmespath<2.0.0,>=0.7.1 in /usr/local/lib/python3.12/dist-packages (from boto3<2,>=1.10->autogluon.core==1.4.0->autogluon.tabular[all]) (1.0.1)\n",
            "Requirement already satisfied: s3transfer<0.15.0,>=0.14.0 in /usr/local/lib/python3.12/dist-packages (from boto3<2,>=1.10->autogluon.core==1.4.0->autogluon.tabular[all]) (0.14.0)\n",
            "Requirement already satisfied: future in /usr/local/lib/python3.12/dist-packages (from hyperopt<0.2.8,>=0.2.7->autogluon.core[all]==1.4.0; extra == \"all\"->autogluon.tabular[all]) (1.0.0)\n",
            "Requirement already satisfied: py4j in /usr/local/lib/python3.12/dist-packages (from hyperopt<0.2.8,>=0.2.7->autogluon.core[all]==1.4.0; extra == \"all\"->autogluon.tabular[all]) (0.10.9.7)\n",
            "Requirement already satisfied: language-data>=1.2 in /usr/local/lib/python3.12/dist-packages (from langcodes<4.0.0,>=3.2.0->spacy<3.9->autogluon.tabular[all]) (1.3.0)\n",
            "Requirement already satisfied: contourpy>=1.0.1 in /usr/local/lib/python3.12/dist-packages (from matplotlib<3.11,>=3.7.0->autogluon.core==1.4.0->autogluon.tabular[all]) (1.3.3)\n",
            "Requirement already satisfied: cycler>=0.10 in /usr/local/lib/python3.12/dist-packages (from matplotlib<3.11,>=3.7.0->autogluon.core==1.4.0->autogluon.tabular[all]) (0.12.1)\n",
            "Requirement already satisfied: fonttools>=4.22.0 in /usr/local/lib/python3.12/dist-packages (from matplotlib<3.11,>=3.7.0->autogluon.core==1.4.0->autogluon.tabular[all]) (4.60.1)\n",
            "Requirement already satisfied: kiwisolver>=1.3.1 in /usr/local/lib/python3.12/dist-packages (from matplotlib<3.11,>=3.7.0->autogluon.core==1.4.0->autogluon.tabular[all]) (1.4.9)\n",
            "Requirement already satisfied: pyparsing>=2.3.1 in /usr/local/lib/python3.12/dist-packages (from matplotlib<3.11,>=3.7.0->autogluon.core==1.4.0->autogluon.tabular[all]) (3.2.5)\n",
            "Requirement already satisfied: annotated-types>=0.6.0 in /usr/local/lib/python3.12/dist-packages (from pydantic!=1.8,!=1.8.1,<3.0.0,>=1.7.4->spacy<3.9->autogluon.tabular[all]) (0.7.0)\n",
            "Requirement already satisfied: pydantic-core==2.33.2 in /usr/local/lib/python3.12/dist-packages (from pydantic!=1.8,!=1.8.1,<3.0.0,>=1.7.4->spacy<3.9->autogluon.tabular[all]) (2.33.2)\n",
            "Requirement already satisfied: typing-inspection>=0.4.0 in /usr/local/lib/python3.12/dist-packages (from pydantic!=1.8,!=1.8.1,<3.0.0,>=1.7.4->spacy<3.9->autogluon.tabular[all]) (0.4.2)\n",
            "Requirement already satisfied: click>=7.0 in /usr/local/lib/python3.12/dist-packages (from ray<2.45,>=2.10.0->ray[default,tune]<2.45,>=2.10.0; extra == \"all\"->autogluon.core[all]==1.4.0; extra == \"all\"->autogluon.tabular[all]) (8.3.0)\n",
            "Requirement already satisfied: jsonschema in /usr/local/lib/python3.12/dist-packages (from ray<2.45,>=2.10.0->ray[default,tune]<2.45,>=2.10.0; extra == \"all\"->autogluon.core[all]==1.4.0; extra == \"all\"->autogluon.tabular[all]) (4.25.1)\n",
            "Requirement already satisfied: msgpack<2.0.0,>=1.0.0 in /usr/local/lib/python3.12/dist-packages (from ray<2.45,>=2.10.0->ray[default,tune]<2.45,>=2.10.0; extra == \"all\"->autogluon.core[all]==1.4.0; extra == \"all\"->autogluon.tabular[all]) (1.1.2)\n",
            "Requirement already satisfied: protobuf!=3.19.5,>=3.15.3 in /usr/local/lib/python3.12/dist-packages (from ray<2.45,>=2.10.0->ray[default,tune]<2.45,>=2.10.0; extra == \"all\"->autogluon.core[all]==1.4.0; extra == \"all\"->autogluon.tabular[all]) (5.29.5)\n",
            "Requirement already satisfied: aiosignal in /usr/local/lib/python3.12/dist-packages (from ray<2.45,>=2.10.0->ray[default,tune]<2.45,>=2.10.0; extra == \"all\"->autogluon.core[all]==1.4.0; extra == \"all\"->autogluon.tabular[all]) (1.4.0)\n",
            "Requirement already satisfied: frozenlist in /usr/local/lib/python3.12/dist-packages (from ray<2.45,>=2.10.0->ray[default,tune]<2.45,>=2.10.0; extra == \"all\"->autogluon.core[all]==1.4.0; extra == \"all\"->autogluon.tabular[all]) (1.8.0)\n",
            "Requirement already satisfied: aiohttp>=3.7 in /usr/local/lib/python3.12/dist-packages (from ray[default,tune]<2.45,>=2.10.0; extra == \"all\"->autogluon.core[all]==1.4.0; extra == \"all\"->autogluon.tabular[all]) (3.13.0)\n",
            "Requirement already satisfied: aiohttp_cors in /usr/local/lib/python3.12/dist-packages (from ray[default,tune]<2.45,>=2.10.0; extra == \"all\"->autogluon.core[all]==1.4.0; extra == \"all\"->autogluon.tabular[all]) (0.8.1)\n",
            "Requirement already satisfied: colorful in /usr/local/lib/python3.12/dist-packages (from ray[default,tune]<2.45,>=2.10.0; extra == \"all\"->autogluon.core[all]==1.4.0; extra == \"all\"->autogluon.tabular[all]) (0.5.7)\n",
            "Requirement already satisfied: py-spy>=0.4.0 in /usr/local/lib/python3.12/dist-packages (from ray[default,tune]<2.45,>=2.10.0; extra == \"all\"->autogluon.core[all]==1.4.0; extra == \"all\"->autogluon.tabular[all]) (0.4.1)\n",
            "Requirement already satisfied: grpcio>=1.42.0 in /usr/local/lib/python3.12/dist-packages (from ray[default,tune]<2.45,>=2.10.0; extra == \"all\"->autogluon.core[all]==1.4.0; extra == \"all\"->autogluon.tabular[all]) (1.75.1)\n",
            "Requirement already satisfied: opencensus in /usr/local/lib/python3.12/dist-packages (from ray[default,tune]<2.45,>=2.10.0; extra == \"all\"->autogluon.core[all]==1.4.0; extra == \"all\"->autogluon.tabular[all]) (0.11.4)\n",
            "Requirement already satisfied: prometheus_client>=0.7.1 in /usr/local/lib/python3.12/dist-packages (from ray[default,tune]<2.45,>=2.10.0; extra == \"all\"->autogluon.core[all]==1.4.0; extra == \"all\"->autogluon.tabular[all]) (0.23.1)\n",
            "Requirement already satisfied: smart_open in /usr/local/lib/python3.12/dist-packages (from ray[default,tune]<2.45,>=2.10.0; extra == \"all\"->autogluon.core[all]==1.4.0; extra == \"all\"->autogluon.tabular[all]) (7.3.1)\n",
            "Requirement already satisfied: virtualenv!=20.21.1,>=20.0.24 in /usr/local/lib/python3.12/dist-packages (from ray[default,tune]<2.45,>=2.10.0; extra == \"all\"->autogluon.core[all]==1.4.0; extra == \"all\"->autogluon.tabular[all]) (20.35.3)\n",
            "Requirement already satisfied: tensorboardX>=1.9 in /usr/local/lib/python3.12/dist-packages (from ray[default,tune]<2.45,>=2.10.0; extra == \"all\"->autogluon.core[all]==1.4.0; extra == \"all\"->autogluon.tabular[all]) (2.6.4)\n",
            "Requirement already satisfied: charset_normalizer<4,>=2 in /usr/local/lib/python3.12/dist-packages (from requests->autogluon.core==1.4.0->autogluon.tabular[all]) (3.4.3)\n",
            "Requirement already satisfied: idna<4,>=2.5 in /usr/local/lib/python3.12/dist-packages (from requests->autogluon.core==1.4.0->autogluon.tabular[all]) (3.10)\n",
            "Requirement already satisfied: urllib3<3,>=1.21.1 in /usr/local/lib/python3.12/dist-packages (from requests->autogluon.core==1.4.0->autogluon.tabular[all]) (2.5.0)\n",
            "Requirement already satisfied: certifi>=2017.4.17 in /usr/local/lib/python3.12/dist-packages (from requests->autogluon.core==1.4.0->autogluon.tabular[all]) (2025.10.5)\n",
            "Requirement already satisfied: mpmath<1.4,>=1.1.0 in /usr/local/lib/python3.12/dist-packages (from sympy>=1.13.3->torch<2.8,>=2.2->autogluon.tabular[all]) (1.3.0)\n",
            "Requirement already satisfied: blis<1.4.0,>=1.3.0 in /usr/local/lib/python3.12/dist-packages (from thinc<8.4.0,>=8.3.4->spacy<3.9->autogluon.tabular[all]) (1.3.0)\n",
            "Requirement already satisfied: confection<1.0.0,>=0.0.1 in /usr/local/lib/python3.12/dist-packages (from thinc<8.4.0,>=8.3.4->spacy<3.9->autogluon.tabular[all]) (0.1.5)\n",
            "Requirement already satisfied: shellingham>=1.3.0 in /usr/local/lib/python3.12/dist-packages (from typer<1.0.0,>=0.3.0->spacy<3.9->autogluon.tabular[all]) (1.5.4)\n",
            "Requirement already satisfied: rich>=10.11.0 in /usr/local/lib/python3.12/dist-packages (from typer<1.0.0,>=0.3.0->spacy<3.9->autogluon.tabular[all]) (13.9.4)\n",
            "Requirement already satisfied: cloudpathlib<1.0.0,>=0.7.0 in /usr/local/lib/python3.12/dist-packages (from weasel<0.5.0,>=0.1.0->spacy<3.9->autogluon.tabular[all]) (0.23.0)\n",
            "Requirement already satisfied: MarkupSafe>=2.0 in /usr/local/lib/python3.12/dist-packages (from jinja2->spacy<3.9->autogluon.tabular[all]) (3.0.3)\n",
            "Requirement already satisfied: tenacity>=6.2.0 in /usr/local/lib/python3.12/dist-packages (from plotly->catboost<1.3,>=1.2->autogluon.tabular[all]) (8.5.0)\n",
            "Requirement already satisfied: beartype>=0.16.2 in /usr/local/lib/python3.12/dist-packages (from plum-dispatch->fastai<2.9,>=2.3.1->autogluon.tabular[all]) (0.22.2)\n",
            "Requirement already satisfied: aiohappyeyeballs>=2.5.0 in /usr/local/lib/python3.12/dist-packages (from aiohttp>=3.7->ray[default,tune]<2.45,>=2.10.0; extra == \"all\"->autogluon.core[all]==1.4.0; extra == \"all\"->autogluon.tabular[all]) (2.6.1)\n",
            "Requirement already satisfied: attrs>=17.3.0 in /usr/local/lib/python3.12/dist-packages (from aiohttp>=3.7->ray[default,tune]<2.45,>=2.10.0; extra == \"all\"->autogluon.core[all]==1.4.0; extra == \"all\"->autogluon.tabular[all]) (25.4.0)\n",
            "Requirement already satisfied: multidict<7.0,>=4.5 in /usr/local/lib/python3.12/dist-packages (from aiohttp>=3.7->ray[default,tune]<2.45,>=2.10.0; extra == \"all\"->autogluon.core[all]==1.4.0; extra == \"all\"->autogluon.tabular[all]) (6.7.0)\n",
            "Requirement already satisfied: propcache>=0.2.0 in /usr/local/lib/python3.12/dist-packages (from aiohttp>=3.7->ray[default,tune]<2.45,>=2.10.0; extra == \"all\"->autogluon.core[all]==1.4.0; extra == \"all\"->autogluon.tabular[all]) (0.3.2)\n",
            "Requirement already satisfied: yarl<2.0,>=1.17.0 in /usr/local/lib/python3.12/dist-packages (from aiohttp>=3.7->ray[default,tune]<2.45,>=2.10.0; extra == \"all\"->autogluon.core[all]==1.4.0; extra == \"all\"->autogluon.tabular[all]) (1.22.0)\n",
            "Requirement already satisfied: marisa-trie>=1.1.0 in /usr/local/lib/python3.12/dist-packages (from language-data>=1.2->langcodes<4.0.0,>=3.2.0->spacy<3.9->autogluon.tabular[all]) (1.3.1)\n",
            "Requirement already satisfied: markdown-it-py>=2.2.0 in /usr/local/lib/python3.12/dist-packages (from rich>=10.11.0->typer<1.0.0,>=0.3.0->spacy<3.9->autogluon.tabular[all]) (4.0.0)\n",
            "Requirement already satisfied: pygments<3.0.0,>=2.13.0 in /usr/local/lib/python3.12/dist-packages (from rich>=10.11.0->typer<1.0.0,>=0.3.0->spacy<3.9->autogluon.tabular[all]) (2.19.2)\n",
            "Requirement already satisfied: wrapt in /usr/local/lib/python3.12/dist-packages (from smart_open->ray[default,tune]<2.45,>=2.10.0; extra == \"all\"->autogluon.core[all]==1.4.0; extra == \"all\"->autogluon.tabular[all]) (1.17.3)\n",
            "Requirement already satisfied: distlib<1,>=0.3.7 in /usr/local/lib/python3.12/dist-packages (from virtualenv!=20.21.1,>=20.0.24->ray[default,tune]<2.45,>=2.10.0; extra == \"all\"->autogluon.core[all]==1.4.0; extra == \"all\"->autogluon.tabular[all]) (0.4.0)\n",
            "Requirement already satisfied: platformdirs<5,>=3.9.1 in /usr/local/lib/python3.12/dist-packages (from virtualenv!=20.21.1,>=20.0.24->ray[default,tune]<2.45,>=2.10.0; extra == \"all\"->autogluon.core[all]==1.4.0; extra == \"all\"->autogluon.tabular[all]) (4.5.0)\n",
            "Requirement already satisfied: jsonschema-specifications>=2023.03.6 in /usr/local/lib/python3.12/dist-packages (from jsonschema->ray<2.45,>=2.10.0->ray[default,tune]<2.45,>=2.10.0; extra == \"all\"->autogluon.core[all]==1.4.0; extra == \"all\"->autogluon.tabular[all]) (2025.9.1)\n",
            "Requirement already satisfied: referencing>=0.28.4 in /usr/local/lib/python3.12/dist-packages (from jsonschema->ray<2.45,>=2.10.0->ray[default,tune]<2.45,>=2.10.0; extra == \"all\"->autogluon.core[all]==1.4.0; extra == \"all\"->autogluon.tabular[all]) (0.36.2)\n",
            "Requirement already satisfied: rpds-py>=0.7.1 in /usr/local/lib/python3.12/dist-packages (from jsonschema->ray<2.45,>=2.10.0->ray[default,tune]<2.45,>=2.10.0; extra == \"all\"->autogluon.core[all]==1.4.0; extra == \"all\"->autogluon.tabular[all]) (0.27.1)\n",
            "Requirement already satisfied: opencensus-context>=0.1.3 in /usr/local/lib/python3.12/dist-packages (from opencensus->ray[default,tune]<2.45,>=2.10.0; extra == \"all\"->autogluon.core[all]==1.4.0; extra == \"all\"->autogluon.tabular[all]) (0.1.3)\n",
            "Requirement already satisfied: google-api-core<3.0.0,>=1.0.0 in /usr/local/lib/python3.12/dist-packages (from opencensus->ray[default,tune]<2.45,>=2.10.0; extra == \"all\"->autogluon.core[all]==1.4.0; extra == \"all\"->autogluon.tabular[all]) (2.25.2)\n",
            "Requirement already satisfied: googleapis-common-protos<2.0.0,>=1.56.2 in /usr/local/lib/python3.12/dist-packages (from google-api-core<3.0.0,>=1.0.0->opencensus->ray[default,tune]<2.45,>=2.10.0; extra == \"all\"->autogluon.core[all]==1.4.0; extra == \"all\"->autogluon.tabular[all]) (1.70.0)\n",
            "Requirement already satisfied: proto-plus<2.0.0,>=1.22.3 in /usr/local/lib/python3.12/dist-packages (from google-api-core<3.0.0,>=1.0.0->opencensus->ray[default,tune]<2.45,>=2.10.0; extra == \"all\"->autogluon.core[all]==1.4.0; extra == \"all\"->autogluon.tabular[all]) (1.26.1)\n",
            "Requirement already satisfied: google-auth<3.0.0,>=2.14.1 in /usr/local/lib/python3.12/dist-packages (from google-api-core<3.0.0,>=1.0.0->opencensus->ray[default,tune]<2.45,>=2.10.0; extra == \"all\"->autogluon.core[all]==1.4.0; extra == \"all\"->autogluon.tabular[all]) (2.38.0)\n",
            "Requirement already satisfied: mdurl~=0.1 in /usr/local/lib/python3.12/dist-packages (from markdown-it-py>=2.2.0->rich>=10.11.0->typer<1.0.0,>=0.3.0->spacy<3.9->autogluon.tabular[all]) (0.1.2)\n",
            "Requirement already satisfied: cachetools<6.0,>=2.0.0 in /usr/local/lib/python3.12/dist-packages (from google-auth<3.0.0,>=2.14.1->google-api-core<3.0.0,>=1.0.0->opencensus->ray[default,tune]<2.45,>=2.10.0; extra == \"all\"->autogluon.core[all]==1.4.0; extra == \"all\"->autogluon.tabular[all]) (5.5.2)\n",
            "Requirement already satisfied: pyasn1-modules>=0.2.1 in /usr/local/lib/python3.12/dist-packages (from google-auth<3.0.0,>=2.14.1->google-api-core<3.0.0,>=1.0.0->opencensus->ray[default,tune]<2.45,>=2.10.0; extra == \"all\"->autogluon.core[all]==1.4.0; extra == \"all\"->autogluon.tabular[all]) (0.4.2)\n",
            "Requirement already satisfied: rsa<5,>=3.1.4 in /usr/local/lib/python3.12/dist-packages (from google-auth<3.0.0,>=2.14.1->google-api-core<3.0.0,>=1.0.0->opencensus->ray[default,tune]<2.45,>=2.10.0; extra == \"all\"->autogluon.core[all]==1.4.0; extra == \"all\"->autogluon.tabular[all]) (4.9.1)\n",
            "Requirement already satisfied: pyasn1<0.7.0,>=0.6.1 in /usr/local/lib/python3.12/dist-packages (from pyasn1-modules>=0.2.1->google-auth<3.0.0,>=2.14.1->google-api-core<3.0.0,>=1.0.0->opencensus->ray[default,tune]<2.45,>=2.10.0; extra == \"all\"->autogluon.core[all]==1.4.0; extra == \"all\"->autogluon.tabular[all]) (0.6.1)\n"
          ]
        }
      ],
      "source": [
        "!pip install autogluon.tabular[all]\n"
      ]
    },
    {
      "cell_type": "code",
      "execution_count": 4,
      "id": "fae7a5f3",
      "metadata": {
        "id": "fae7a5f3",
        "outputId": "4cda19ba-9d9c-45bf-b2b5-b70891f2802b",
        "colab": {
          "base_uri": "https://localhost:8080/"
        }
      },
      "outputs": [
        {
          "output_type": "stream",
          "name": "stdout",
          "text": [
            "       age workclass  fnlwgt      education  education-num  \\\n",
            "6118    51   Private   39264   Some-college             10   \n",
            "23204   58   Private   51662           10th              6   \n",
            "29590   40   Private  326310   Some-college             10   \n",
            "18116   37   Private  222450        HS-grad              9   \n",
            "33964   62   Private  109190      Bachelors             13   \n",
            "\n",
            "            marital-status        occupation    relationship    race      sex  \\\n",
            "6118    Married-civ-spouse   Exec-managerial            Wife   White   Female   \n",
            "23204   Married-civ-spouse     Other-service            Wife   White   Female   \n",
            "29590   Married-civ-spouse      Craft-repair         Husband   White     Male   \n",
            "18116        Never-married             Sales   Not-in-family   White     Male   \n",
            "33964   Married-civ-spouse   Exec-managerial         Husband   White     Male   \n",
            "\n",
            "       capital-gain  capital-loss  hours-per-week  native-country   class  \n",
            "6118              0             0              40   United-States    >50K  \n",
            "23204             0             0               8   United-States   <=50K  \n",
            "29590             0             0              44   United-States   <=50K  \n",
            "18116             0          2339              40     El-Salvador   <=50K  \n",
            "33964         15024             0              40   United-States    >50K  \n",
            "Summary of occupation column: \n",
            " count              1000\n",
            "unique               15\n",
            "top        Craft-repair\n",
            "freq                142\n",
            "Name: occupation, dtype: object\n"
          ]
        }
      ],
      "source": [
        "from autogluon.tabular import TabularDataset, TabularPredictor\n",
        "\n",
        "import numpy as np\n",
        "\n",
        "train_data = TabularDataset('https://autogluon.s3.amazonaws.com/datasets/Inc/train.csv')\n",
        "subsample_size = 1000  # subsample subset of data for faster demo, try setting this to much larger values\n",
        "train_data = train_data.sample(n=subsample_size, random_state=0)\n",
        "print(train_data.head())\n",
        "\n",
        "label = 'occupation'\n",
        "print(\"Summary of occupation column: \\n\", train_data['occupation'].describe())\n",
        "\n",
        "test_data = TabularDataset('https://autogluon.s3.amazonaws.com/datasets/Inc/test.csv')\n",
        "y_test = test_data[label]\n",
        "test_data_nolabel = test_data.drop(columns=[label])  # delete label column\n",
        "\n",
        "metric = 'accuracy' # we specify eval-metric just for demo (unnecessary as it's the default)"
      ]
    },
    {
      "cell_type": "markdown",
      "source": [
        "## Specifying hyperparameters and tuning them\n",
        "\n",
        "**Note: We don't recommend doing hyperparameter-tuning with AutoGluon in most cases**. AutoGluon achieves its best performance without hyperparameter tuning and simply specifying `presets=\"best_quality\"`.\n",
        "\n",
        "We first demonstrate hyperparameter-tuning and how you can provide your own validation dataset that AutoGluon internally relies on to: tune hyperparameters, early-stop iterative training, and construct model ensembles. One reason you may specify validation data is when future test data will stem from a different distribution than training data (and your specified validation data is more representative of the future data that will likely be encountered).\n",
        "\n",
        " If you don't have a strong reason to provide your own validation dataset, we recommend you omit the `tuning_data` argument. This lets AutoGluon automatically select validation data from your provided training set (it uses smart strategies such as stratified sampling).  For greater control, you can specify the `holdout_frac` argument to tell AutoGluon what fraction of the provided training data to hold out for validation.\n",
        "\n",
        "**Caution:** Since AutoGluon tunes internal knobs based on this validation data, performance estimates reported on this data may be over-optimistic. For unbiased performance estimates, you should always call `predict()` on a separate dataset (that was never passed to `fit()`), as we did in the previous **Quick-Start** tutorial. We also emphasize that most options specified in this tutorial are chosen to minimize runtime for the purposes of demonstration and you should select more reasonable values in order to obtain high-quality models.\n",
        "\n",
        "`fit()` trains neural networks and various types of tree ensembles by default. You can specify various hyperparameter values for each type of model. For each hyperparameter, you can either specify a single fixed value, or a search space of values to consider during hyperparameter optimization. Hyperparameters which you do not specify are left at default settings chosen automatically by AutoGluon, which may be fixed values or search spaces.\n",
        "\n",
        "Refer to the [Search Space documentation](../../api/autogluon.common.space.rst) to learn more about AutoGluon search space."
      ],
      "metadata": {
        "collapsed": false,
        "id": "98733672"
      },
      "id": "98733672"
    },
    {
      "cell_type": "code",
      "execution_count": 5,
      "outputs": [
        {
          "output_type": "stream",
          "name": "stderr",
          "text": [
            "No path specified. Models will be saved in: \"AutogluonModels/ag-20251014_201658\"\n",
            "Verbosity: 2 (Standard Logging)\n",
            "=================== System Info ===================\n",
            "AutoGluon Version:  1.4.0\n",
            "Python Version:     3.12.12\n",
            "Operating System:   Linux\n",
            "Platform Machine:   x86_64\n",
            "Platform Version:   #1 SMP Thu Oct  2 10:42:05 UTC 2025\n",
            "CPU Count:          2\n",
            "Memory Avail:       11.40 GB / 12.67 GB (89.9%)\n",
            "Disk Space Avail:   62.35 GB / 107.72 GB (57.9%)\n",
            "===================================================\n",
            "No presets specified! To achieve strong results with AutoGluon, it is recommended to use the available presets. Defaulting to `'medium'`...\n",
            "\tRecommended Presets (For more details refer to https://auto.gluon.ai/stable/tutorials/tabular/tabular-essentials.html#presets):\n",
            "\tpresets='extreme' : New in v1.4: Massively better than 'best' on datasets <30000 samples by using new models meta-learned on https://tabarena.ai: TabPFNv2, TabICL, Mitra, and TabM. Absolute best accuracy. Requires a GPU. Recommended 64 GB CPU memory and 32+ GB GPU memory.\n",
            "\tpresets='best'    : Maximize accuracy. Recommended for most users. Use in competitions and benchmarks.\n",
            "\tpresets='high'    : Strong accuracy with fast inference speed.\n",
            "\tpresets='good'    : Good accuracy with very fast inference speed.\n",
            "\tpresets='medium'  : Fast training time, ideal for initial prototyping.\n",
            "Warning: hyperparameter tuning is currently experimental and may cause the process to hang.\n",
            "Beginning AutoGluon training ... Time limit = 120s\n",
            "AutoGluon will save models to \"/content/AutogluonModels/ag-20251014_201658\"\n",
            "Train Data Rows:    1000\n",
            "Train Data Columns: 14\n",
            "Label Column:       occupation\n",
            "AutoGluon infers your prediction problem is: 'multiclass' (because dtype of label-column == object).\n",
            "\tFirst 10 (of 15) unique label values:  [' Exec-managerial', ' Other-service', ' Craft-repair', ' Sales', ' Prof-specialty', ' Protective-serv', ' ?', ' Adm-clerical', ' Machine-op-inspct', ' Tech-support']\n",
            "\tIf 'multiclass' is not the correct problem_type, please manually specify the problem_type parameter during Predictor init (You may specify problem_type as one of: ['binary', 'multiclass', 'regression', 'quantile'])\n",
            "Problem Type:       multiclass\n",
            "Preprocessing data ...\n",
            "Warning: Some classes in the training set have fewer than 10 examples. AutoGluon will only keep 13 out of 15 classes for training and will not try to predict the rare classes. To keep more classes, increase the number of datapoints from these rare classes in the training data or reduce label_count_threshold.\n",
            "Fraction of data from classes with at least 10 examples that will be kept for training models: 0.996\n",
            "Train Data Class Count: 13\n",
            "Using Feature Generators to preprocess the data ...\n",
            "Fitting AutoMLPipelineFeatureGenerator...\n",
            "\tAvailable Memory:                    11834.22 MB\n",
            "\tTrain Data (Original)  Memory Usage: 0.49 MB (0.0% of available memory)\n",
            "\tInferring data type of each feature based on column values. Set feature_metadata_in to manually specify special dtypes of the features.\n",
            "\tStage 1 Generators:\n",
            "\t\tFitting AsTypeFeatureGenerator...\n",
            "\t\t\tNote: Converting 2 features to boolean dtype as they only contain 2 unique values.\n",
            "\tStage 2 Generators:\n",
            "\t\tFitting FillNaFeatureGenerator...\n",
            "\tStage 3 Generators:\n",
            "\t\tFitting IdentityFeatureGenerator...\n",
            "\t\tFitting CategoryFeatureGenerator...\n",
            "\t\t\tFitting CategoryMemoryMinimizeFeatureGenerator...\n",
            "\tStage 4 Generators:\n",
            "\t\tFitting DropUniqueFeatureGenerator...\n",
            "\tStage 5 Generators:\n",
            "\t\tFitting DropDuplicatesFeatureGenerator...\n",
            "\tTypes of features in original data (raw dtype, special dtypes):\n",
            "\t\t('int', [])    : 6 | ['age', 'fnlwgt', 'education-num', 'capital-gain', 'capital-loss', ...]\n",
            "\t\t('object', []) : 8 | ['workclass', 'education', 'marital-status', 'relationship', 'race', ...]\n",
            "\tTypes of features in processed data (raw dtype, special dtypes):\n",
            "\t\t('category', [])  : 6 | ['workclass', 'education', 'marital-status', 'relationship', 'race', ...]\n",
            "\t\t('int', [])       : 6 | ['age', 'fnlwgt', 'education-num', 'capital-gain', 'capital-loss', ...]\n",
            "\t\t('int', ['bool']) : 2 | ['sex', 'class']\n",
            "\t0.3s = Fit runtime\n",
            "\t14 features in original data used to generate 14 features in processed data.\n",
            "\tTrain Data (Processed) Memory Usage: 0.06 MB (0.0% of available memory)\n",
            "Data preprocessing and feature engineering runtime = 0.42s ...\n",
            "AutoGluon will gauge predictive performance using evaluation metric: 'accuracy'\n",
            "\tTo change this, specify the eval_metric parameter of Predictor()\n",
            "Automatically generating train/validation split with holdout_frac=0.2, Train Rows: 796, Val Rows: 200\n",
            "User-specified model hyperparameters to be fit:\n",
            "{\n",
            "\t'GBM': [{'num_boost_round': 100, 'num_leaves': Int: lower=26, upper=66}],\n",
            "\t'NN_TORCH': [{'num_epochs': 10, 'learning_rate': Real: lower=0.0001, upper=0.01, 'activation': Categorical['relu', 'softrelu', 'tanh'], 'dropout_prob': Real: lower=0.0, upper=0.5}],\n",
            "}\n",
            "Fitting 2 L1 models, fit_strategy=\"sequential\" ...\n",
            "Hyperparameter tuning model: LightGBM ... Tuning model for up to 53.81s of the 119.58s of remaining time.\n"
          ]
        },
        {
          "output_type": "display_data",
          "data": {
            "text/plain": [
              "  0%|          | 0/5 [00:00<?, ?it/s]"
            ],
            "application/vnd.jupyter.widget-view+json": {
              "version_major": 2,
              "version_minor": 0,
              "model_id": "c81c484739b044979512e65d3438c6cc"
            }
          },
          "metadata": {}
        },
        {
          "output_type": "stream",
          "name": "stderr",
          "text": [
            "Fitted model: LightGBM/T1 ...\n",
            "\t0.37\t = Validation score   (accuracy)\n",
            "\t11.77s\t = Training   runtime\n",
            "\t0.01s\t = Validation runtime\n",
            "Fitted model: LightGBM/T2 ...\n",
            "\t0.355\t = Validation score   (accuracy)\n",
            "\t1.13s\t = Training   runtime\n",
            "\t0.01s\t = Validation runtime\n",
            "Fitted model: LightGBM/T3 ...\n",
            "\t0.375\t = Validation score   (accuracy)\n",
            "\t0.68s\t = Training   runtime\n",
            "\t0.01s\t = Validation runtime\n",
            "Fitted model: LightGBM/T4 ...\n",
            "\t0.36\t = Validation score   (accuracy)\n",
            "\t0.91s\t = Training   runtime\n",
            "\t0.03s\t = Validation runtime\n",
            "Fitted model: LightGBM/T5 ...\n",
            "\t0.375\t = Validation score   (accuracy)\n",
            "\t0.84s\t = Training   runtime\n",
            "\t0.02s\t = Validation runtime\n",
            "Hyperparameter tuning model: NeuralNetTorch ... Tuning model for up to 53.81s of the 92.84s of remaining time.\n"
          ]
        },
        {
          "output_type": "stream",
          "name": "stdout",
          "text": [
            "+---------------------------------------------------+\n",
            "| Configuration for experiment     NeuralNetTorch   |\n",
            "+---------------------------------------------------+\n",
            "| Search algorithm                 SearchGenerator  |\n",
            "| Scheduler                        FIFOScheduler    |\n",
            "| Number of trials                 5                |\n",
            "+---------------------------------------------------+\n",
            "\n",
            "View detailed results here: /content/AutogluonModels/ag-20251014_201658/models/NeuralNetTorch\n"
          ]
        },
        {
          "output_type": "stream",
          "name": "stderr",
          "text": [
            "Fitted model: NeuralNetTorch/d68e0c93 ...\n",
            "\t0.36\t = Validation score   (accuracy)\n",
            "\t10.86s\t = Training   runtime\n",
            "\t0.03s\t = Validation runtime\n"
          ]
        },
        {
          "output_type": "stream",
          "name": "stdout",
          "text": [
            "\n"
          ]
        },
        {
          "output_type": "stream",
          "name": "stderr",
          "text": [
            "Fitting model: WeightedEnsemble_L2 ... Training model for up to 119.58s of the 9.31s of remaining time.\n",
            "\tEnsemble Weights: {'LightGBM/T3': 1.0}\n",
            "\t0.375\t = Validation score   (accuracy)\n",
            "\t0.04s\t = Training   runtime\n",
            "\t0.0s\t = Validation runtime\n",
            "AutoGluon training complete, total runtime = 110.8s ... Best model: WeightedEnsemble_L2 | Estimated inference throughput: 16895.5 rows/s (200 batch size)\n",
            "TabularPredictor saved. To load, use: predictor = TabularPredictor.load(\"/content/AutogluonModels/ag-20251014_201658\")\n"
          ]
        }
      ],
      "source": [
        "from autogluon.common import space\n",
        "\n",
        "nn_options = {  # specifies non-default hyperparameter values for neural network models\n",
        "    'num_epochs': 10,  # number of training epochs (controls training time of NN models)\n",
        "    'learning_rate': space.Real(1e-4, 1e-2, default=5e-4, log=True),  # learning rate used in training (real-valued hyperparameter searched on log-scale)\n",
        "    'activation': space.Categorical('relu', 'softrelu', 'tanh'),  # activation function used in NN (categorical hyperparameter, default = first entry)\n",
        "    'dropout_prob': space.Real(0.0, 0.5, default=0.1),  # dropout probability (real-valued hyperparameter)\n",
        "}\n",
        "\n",
        "gbm_options = {  # specifies non-default hyperparameter values for lightGBM gradient boosted trees\n",
        "    'num_boost_round': 100,  # number of boosting rounds (controls training time of GBM models)\n",
        "    'num_leaves': space.Int(lower=26, upper=66, default=36),  # number of leaves in trees (integer hyperparameter)\n",
        "}\n",
        "\n",
        "hyperparameters = {  # hyperparameters of each model type\n",
        "                   'GBM': gbm_options,\n",
        "                   'NN_TORCH': nn_options,  # NOTE: comment this line out if you get errors on Mac OSX\n",
        "                  }  # When these keys are missing from hyperparameters dict, no models of that type are trained\n",
        "\n",
        "time_limit = 2*60  # train various models for ~2 min\n",
        "num_trials = 5  # try at most 5 different hyperparameter configurations for each type of model\n",
        "search_strategy = 'auto'  # to tune hyperparameters using random search routine with a local scheduler\n",
        "\n",
        "hyperparameter_tune_kwargs = {  # HPO is not performed unless hyperparameter_tune_kwargs is specified\n",
        "    'num_trials': num_trials,\n",
        "    'scheduler' : 'local',\n",
        "    'searcher': search_strategy,\n",
        "}  # Refer to TabularPredictor.fit docstring for all valid values\n",
        "\n",
        "predictor = TabularPredictor(label=label, eval_metric=metric).fit(\n",
        "    train_data,\n",
        "    time_limit=time_limit,\n",
        "    hyperparameters=hyperparameters,\n",
        "    hyperparameter_tune_kwargs=hyperparameter_tune_kwargs,\n",
        ")"
      ],
      "metadata": {
        "id": "87f28cf4",
        "outputId": "7a04e37d-b8f9-41fd-f56a-fb9667f7c31b",
        "colab": {
          "base_uri": "https://localhost:8080/",
          "height": 1000,
          "referenced_widgets": [
            "c81c484739b044979512e65d3438c6cc",
            "c2b5bb657ab14cdd954a77227364a691",
            "e31ab5da94a74c2b9118879aa3d20332",
            "a5bd70abe32c411f8ac1f5640cc1d2e9",
            "ce2340c0f19741b5be102029c876a03d",
            "309841a29d174283a5140266e1a4c035",
            "8744213132d94bef99ba39a341e01cc4",
            "1f44ad8c8c604fc186d7a72a7cafe06c",
            "589e8539b48a4e19af00664821d17627",
            "26bb025e08334d849e1b67b986bc4210",
            "02ee2b34197b403aad27986dcb49090b"
          ]
        }
      },
      "id": "87f28cf4"
    },
    {
      "cell_type": "markdown",
      "source": [
        "We again demonstrate how to use the trained models to predict on the test data."
      ],
      "metadata": {
        "collapsed": false,
        "id": "816e4beb"
      },
      "id": "816e4beb"
    },
    {
      "cell_type": "code",
      "execution_count": 6,
      "outputs": [
        {
          "output_type": "stream",
          "name": "stdout",
          "text": [
            "Predictions:   [' Other-service', ' Craft-repair', ' Exec-managerial', ' Sales', ' Other-service']\n"
          ]
        }
      ],
      "source": [
        "y_pred = predictor.predict(test_data_nolabel)\n",
        "print(\"Predictions:  \", list(y_pred)[:5])\n",
        "perf = predictor.evaluate(test_data, auxiliary_metrics=False)"
      ],
      "metadata": {
        "id": "3bf2965a",
        "outputId": "960aad66-b0f0-47cc-e451-1143a718c894",
        "colab": {
          "base_uri": "https://localhost:8080/"
        }
      },
      "id": "3bf2965a"
    },
    {
      "cell_type": "markdown",
      "source": [
        "Use the following to view a summary of what happened during `fit()`. Now this command will show details of the hyperparameter-tuning process for each type of model:"
      ],
      "metadata": {
        "collapsed": false,
        "id": "5c2f4648"
      },
      "id": "5c2f4648"
    },
    {
      "cell_type": "code",
      "execution_count": 7,
      "outputs": [
        {
          "output_type": "stream",
          "name": "stdout",
          "text": [
            "*** Summary of fit() ***\n",
            "Estimated performance of each model:\n",
            "                     model  score_val eval_metric  pred_time_val   fit_time  pred_time_val_marginal  fit_time_marginal  stack_level  can_infer  fit_order\n",
            "0              LightGBM/T3      0.375    accuracy       0.010322   0.681138                0.010322           0.681138            1       True          3\n",
            "1      WeightedEnsemble_L2      0.375    accuracy       0.011837   0.724979                0.001516           0.043841            2       True          7\n",
            "2              LightGBM/T5      0.375    accuracy       0.015269   0.838955                0.015269           0.838955            1       True          5\n",
            "3              LightGBM/T1      0.370    accuracy       0.008106  11.769066                0.008106          11.769066            1       True          1\n",
            "4              LightGBM/T4      0.360    accuracy       0.028759   0.914504                0.028759           0.914504            1       True          4\n",
            "5  NeuralNetTorch/d68e0c93      0.360    accuracy       0.029920  10.862251                0.029920          10.862251            1       True          6\n",
            "6              LightGBM/T2      0.355    accuracy       0.012005   1.127392                0.012005           1.127392            1       True          2\n",
            "Number of models trained: 7\n",
            "Types of models trained:\n",
            "{'WeightedEnsembleModel', 'LGBModel', 'TabularNeuralNetTorchModel'}\n",
            "Bagging used: False \n",
            "Multi-layer stack-ensembling used: False \n",
            "Feature Metadata (Processed):\n",
            "(raw dtype, special dtypes):\n",
            "('category', [])  : 6 | ['workclass', 'education', 'marital-status', 'relationship', 'race', ...]\n",
            "('int', [])       : 6 | ['age', 'fnlwgt', 'education-num', 'capital-gain', 'capital-loss', ...]\n",
            "('int', ['bool']) : 2 | ['sex', 'class']\n",
            "Plot summary of models saved to file: /content/AutogluonModels/ag-20251014_201658/SummaryOfModels.html\n",
            "*** End of fit() summary ***\n"
          ]
        }
      ],
      "source": [
        "results = predictor.fit_summary()"
      ],
      "metadata": {
        "id": "1bfc4fe3",
        "outputId": "3c921cdf-16fb-4074-dc22-917806da5b42",
        "colab": {
          "base_uri": "https://localhost:8080/"
        }
      },
      "id": "1bfc4fe3"
    },
    {
      "cell_type": "markdown",
      "source": [
        "In the above example, the predictive performance may be poor because we specified very little training to ensure quick runtimes.  You can call `fit()` multiple times while modifying the above settings to better understand how these choices affect performance outcomes. For example: you can increase `subsample_size` to train using a larger dataset, increase the `num_epochs` and `num_boost_round` hyperparameters, and increase the `time_limit` (which you should do for all code in these tutorials).  To see more detailed output during the execution of `fit()`, you can also pass in the argument: `verbosity=3`."
      ],
      "metadata": {
        "collapsed": false,
        "id": "1d06b7ab"
      },
      "id": "1d06b7ab"
    },
    {
      "cell_type": "markdown",
      "source": [
        "## Model ensembling with stacking/bagging\n",
        "\n",
        "Beyond hyperparameter-tuning with a correctly-specified evaluation metric, two other methods to boost predictive performance are [bagging and stack-ensembling](https://arxiv.org/abs/2003.06505).  You'll often see performance improve if you specify `num_bag_folds` = 5-10, `num_stack_levels` = 1 in the call to `fit()`, but this will increase training times and memory/disk usage."
      ],
      "metadata": {
        "collapsed": false,
        "id": "cc894bfde6cbc5f1"
      },
      "id": "cc894bfde6cbc5f1"
    },
    {
      "cell_type": "code",
      "execution_count": null,
      "id": "d821c4af",
      "metadata": {
        "id": "d821c4af",
        "outputId": "e8fe0b24-e8bc-4f91-e42d-0e3207ad8add",
        "colab": {
          "base_uri": "https://localhost:8080/"
        }
      },
      "outputs": [
        {
          "metadata": {
            "tags": null
          },
          "name": "stderr",
          "output_type": "stream",
          "text": [
            "No path specified. Models will be saved in: \"AutogluonModels/ag-20251014_201852\"\n",
            "Verbosity: 2 (Standard Logging)\n",
            "=================== System Info ===================\n",
            "AutoGluon Version:  1.4.0\n",
            "Python Version:     3.12.12\n",
            "Operating System:   Linux\n",
            "Platform Machine:   x86_64\n",
            "Platform Version:   #1 SMP Thu Oct  2 10:42:05 UTC 2025\n",
            "CPU Count:          2\n",
            "Memory Avail:       10.56 GB / 12.67 GB (83.3%)\n",
            "Disk Space Avail:   62.31 GB / 107.72 GB (57.8%)\n",
            "===================================================\n",
            "No presets specified! To achieve strong results with AutoGluon, it is recommended to use the available presets. Defaulting to `'medium'`...\n",
            "\tRecommended Presets (For more details refer to https://auto.gluon.ai/stable/tutorials/tabular/tabular-essentials.html#presets):\n",
            "\tpresets='extreme' : New in v1.4: Massively better than 'best' on datasets <30000 samples by using new models meta-learned on https://tabarena.ai: TabPFNv2, TabICL, Mitra, and TabM. Absolute best accuracy. Requires a GPU. Recommended 64 GB CPU memory and 32+ GB GPU memory.\n",
            "\tpresets='best'    : Maximize accuracy. Recommended for most users. Use in competitions and benchmarks.\n",
            "\tpresets='high'    : Strong accuracy with fast inference speed.\n",
            "\tpresets='good'    : Good accuracy with very fast inference speed.\n",
            "\tpresets='medium'  : Fast training time, ideal for initial prototyping.\n",
            "Beginning AutoGluon training ...\n",
            "AutoGluon will save models to \"/content/AutogluonModels/ag-20251014_201852\"\n",
            "Train Data Rows:    1000\n",
            "Train Data Columns: 14\n",
            "Label Column:       class\n",
            "AutoGluon infers your prediction problem is: 'binary' (because only two unique label-values observed).\n",
            "\t2 unique label values:  [' >50K', ' <=50K']\n",
            "\tIf 'binary' is not the correct problem_type, please manually specify the problem_type parameter during Predictor init (You may specify problem_type as one of: ['binary', 'multiclass', 'regression', 'quantile'])\n",
            "Problem Type:       binary\n",
            "Preprocessing data ...\n",
            "Selected class <--> label mapping:  class 1 =  >50K, class 0 =  <=50K\n",
            "\tNote: For your binary classification, AutoGluon arbitrarily selected which label-value represents positive ( >50K) vs negative ( <=50K) class.\n",
            "\tTo explicitly set the positive_class, either rename classes to 1 and 0, or specify positive_class in Predictor init.\n",
            "Using Feature Generators to preprocess the data ...\n",
            "Fitting AutoMLPipelineFeatureGenerator...\n",
            "\tAvailable Memory:                    10810.23 MB\n",
            "\tTrain Data (Original)  Memory Usage: 0.50 MB (0.0% of available memory)\n",
            "\tInferring data type of each feature based on column values. Set feature_metadata_in to manually specify special dtypes of the features.\n",
            "\tStage 1 Generators:\n",
            "\t\tFitting AsTypeFeatureGenerator...\n",
            "\t\t\tNote: Converting 1 features to boolean dtype as they only contain 2 unique values.\n",
            "\tStage 2 Generators:\n",
            "\t\tFitting FillNaFeatureGenerator...\n",
            "\tStage 3 Generators:\n",
            "\t\tFitting IdentityFeatureGenerator...\n",
            "\t\tFitting CategoryFeatureGenerator...\n",
            "\t\t\tFitting CategoryMemoryMinimizeFeatureGenerator...\n",
            "\tStage 4 Generators:\n",
            "\t\tFitting DropUniqueFeatureGenerator...\n",
            "\tStage 5 Generators:\n",
            "\t\tFitting DropDuplicatesFeatureGenerator...\n",
            "\tTypes of features in original data (raw dtype, special dtypes):\n",
            "\t\t('int', [])    : 6 | ['age', 'fnlwgt', 'education-num', 'capital-gain', 'capital-loss', ...]\n",
            "\t\t('object', []) : 8 | ['workclass', 'education', 'marital-status', 'occupation', 'relationship', ...]\n",
            "\tTypes of features in processed data (raw dtype, special dtypes):\n",
            "\t\t('category', [])  : 7 | ['workclass', 'education', 'marital-status', 'occupation', 'relationship', ...]\n",
            "\t\t('int', [])       : 6 | ['age', 'fnlwgt', 'education-num', 'capital-gain', 'capital-loss', ...]\n",
            "\t\t('int', ['bool']) : 1 | ['sex']\n",
            "\t0.2s = Fit runtime\n",
            "\t14 features in original data used to generate 14 features in processed data.\n",
            "\tTrain Data (Processed) Memory Usage: 0.06 MB (0.0% of available memory)\n",
            "Data preprocessing and feature engineering runtime = 0.23s ...\n",
            "AutoGluon will gauge predictive performance using evaluation metric: 'accuracy'\n",
            "\tTo change this, specify the eval_metric parameter of Predictor()\n",
            "User-specified model hyperparameters to be fit:\n",
            "{\n",
            "\t'NN_TORCH': [{'num_epochs': 2}],\n",
            "\t'GBM': [{'num_boost_round': 20}],\n",
            "}\n",
            "AutoGluon will fit 2 stack levels (L1 to L2) ...\n",
            "Fitting 2 L1 models, fit_strategy=\"sequential\" ...\n",
            "Fitting model: LightGBM_BAG_L1 ...\n",
            "\tFitting 5 child models (S1F1 - S1F5) | Fitting with ParallelLocalFoldFittingStrategy (2 workers, per: cpus=1, gpus=0, memory=0.03%)\n",
            "\t0.823\t = Validation score   (accuracy)\n",
            "\t50.39s\t = Training   runtime\n",
            "\t0.03s\t = Validation runtime\n",
            "Fitting model: NeuralNetTorch_BAG_L1 ...\n",
            "\tFitting 5 child models (S1F1 - S1F5) | Fitting with ParallelLocalFoldFittingStrategy (2 workers, per: cpus=1, gpus=0, memory=0.00%)\n",
            "\t0.744\t = Validation score   (accuracy)\n",
            "\t65.05s\t = Training   runtime\n",
            "\t0.09s\t = Validation runtime\n",
            "Fitting model: WeightedEnsemble_L2 ...\n",
            "\tEnsemble Weights: {'LightGBM_BAG_L1': 1.0}\n",
            "\t0.823\t = Validation score   (accuracy)\n",
            "\t0.04s\t = Training   runtime\n",
            "\t0.0s\t = Validation runtime\n",
            "Fitting 2 L2 models, fit_strategy=\"sequential\" ...\n",
            "Fitting model: LightGBM_BAG_L2 ...\n",
            "\tFitting 5 child models (S1F1 - S1F5) | Fitting with ParallelLocalFoldFittingStrategy (2 workers, per: cpus=1, gpus=0, memory=0.03%)\n",
            "\t0.829\t = Validation score   (accuracy)\n",
            "\t54.47s\t = Training   runtime\n",
            "\t0.03s\t = Validation runtime\n",
            "Fitting model: NeuralNetTorch_BAG_L2 ...\n",
            "\tFitting 5 child models (S1F1 - S1F5) | Fitting with ParallelLocalFoldFittingStrategy (2 workers, per: cpus=1, gpus=0, memory=0.00%)\n"
          ]
        }
      ],
      "source": [
        "label = 'class'  # Now lets predict the \"class\" column (binary classification)\n",
        "test_data_nolabel = test_data.drop(columns=[label])\n",
        "y_test = test_data[label]\n",
        "save_path = 'agModels-predictClass'  # folder where to store trained models\n",
        "\n",
        "predictor = TabularPredictor(label=label, eval_metric=metric).fit(train_data,\n",
        "    num_bag_folds=5, num_bag_sets=1, num_stack_levels=1,\n",
        "    hyperparameters = {'NN_TORCH': {'num_epochs': 2}, 'GBM': {'num_boost_round': 20}},  # last  argument is just for quick demo here, omit it in real applications\n",
        ")"
      ]
    },
    {
      "cell_type": "markdown",
      "id": "38f61e8d",
      "metadata": {
        "id": "38f61e8d"
      },
      "source": [
        "You should not provide `tuning_data` when stacking/bagging, and instead provide all your available data as `train_data` (which AutoGluon will split in more intellgent ways). `num_bag_sets` controls how many times the k-fold bagging process is repeated to further reduce variance (increasing this may further boost accuracy but will substantially increase training times, inference latency, and memory/disk usage). Rather than manually searching for good bagging/stacking values yourself, AutoGluon will automatically select good values for you if you specify `auto_stack` instead (which is used in the `best_quality` preset):"
      ]
    },
    {
      "cell_type": "code",
      "execution_count": null,
      "id": "e1cf666c",
      "metadata": {
        "id": "e1cf666c"
      },
      "outputs": [],
      "source": [
        "# Lets also specify the \"balanced_accuracy\" metric\n",
        "predictor = TabularPredictor(label=label, eval_metric='balanced_accuracy', path=save_path).fit(\n",
        "    train_data, auto_stack=True,\n",
        "    calibrate_decision_threshold=False,  # Disabling for demonstration in next section\n",
        "    hyperparameters={'FASTAI': {'num_epochs': 10}, 'GBM': {'num_boost_round': 200}}  # last 2 arguments are for quick demo, omit them in real applications\n",
        ")\n",
        "predictor.leaderboard(test_data)"
      ]
    },
    {
      "cell_type": "markdown",
      "source": [
        "Often stacking/bagging will produce superior accuracy than hyperparameter-tuning, but you may try combining both techniques (note: specifying `presets='best_quality'` in `fit()` simply sets `auto_stack=True`).\n",
        "\n",
        "## Decision Threshold Calibration\n",
        "\n",
        "Major metric score improvements can be achieved in binary classification for metrics such as `\"f1\"` and `\"balanced_accuracy\"` by adjusting the prediction decision threshold via `calibrate_decision_threshold` to a value other than the default 0.5.\n",
        "\n",
        "Below is an example of the `\"balanced_accuracy\"` score achieved on the test data with and without calibrating the decision threshold:"
      ],
      "metadata": {
        "collapsed": false,
        "id": "209aed94e755e675"
      },
      "id": "209aed94e755e675"
    },
    {
      "cell_type": "code",
      "execution_count": null,
      "outputs": [],
      "source": [
        "print(f'Prior to calibration (predictor.decision_threshold={predictor.decision_threshold}):')\n",
        "scores = predictor.evaluate(test_data)\n",
        "\n",
        "calibrated_decision_threshold = predictor.calibrate_decision_threshold()\n",
        "predictor.set_decision_threshold(calibrated_decision_threshold)\n",
        "\n",
        "print(f'After calibration (predictor.decision_threshold={predictor.decision_threshold}):')\n",
        "scores_calibrated = predictor.evaluate(test_data)"
      ],
      "metadata": {
        "id": "10e6f148501e94c4"
      },
      "id": "10e6f148501e94c4"
    },
    {
      "cell_type": "code",
      "execution_count": null,
      "outputs": [],
      "source": [
        "for metric_name in scores:\n",
        "    metric_score = scores[metric_name]\n",
        "    metric_score_calibrated = scores_calibrated[metric_name]\n",
        "    decision_threshold = predictor.decision_threshold\n",
        "    print(f'decision_threshold={decision_threshold:.3f}\\t| metric=\"{metric_name}\"'\n",
        "          f'\\n\\ttest_score uncalibrated: {metric_score:.4f}'\n",
        "          f'\\n\\ttest_score   calibrated: {metric_score_calibrated:.4f}'\n",
        "          f'\\n\\ttest_score        delta: {metric_score_calibrated-metric_score:.4f}')"
      ],
      "metadata": {
        "id": "f18f7817111c6477"
      },
      "id": "f18f7817111c6477"
    },
    {
      "cell_type": "markdown",
      "source": [
        "Notice that calibrating for \"balanced_accuracy\" majorly improved the \"balanced_accuracy\" metric score, but it harmed the \"accuracy\" score. Threshold calibration will often result in a tradeoff between performance on different metrics, and the user should keep this in mind.\n",
        "\n",
        "Instead of calibrating for \"balanced_accuracy\" specifically, we can calibrate for any metric if we want to maximize the score of that metric:"
      ],
      "metadata": {
        "collapsed": false,
        "id": "9b689133a34fe3d9"
      },
      "id": "9b689133a34fe3d9"
    },
    {
      "cell_type": "code",
      "execution_count": null,
      "outputs": [],
      "source": [
        "predictor.set_decision_threshold(0.5)  # Reset decision threshold\n",
        "for metric_name in ['f1', 'balanced_accuracy', 'mcc']:\n",
        "    metric_score = predictor.evaluate(test_data, silent=True)[metric_name]\n",
        "    calibrated_decision_threshold = predictor.calibrate_decision_threshold(metric=metric_name, verbose=False)\n",
        "    metric_score_calibrated = predictor.evaluate(\n",
        "        test_data, decision_threshold=calibrated_decision_threshold, silent=True\n",
        "    )[metric_name]\n",
        "    print(f'decision_threshold={calibrated_decision_threshold:.3f}\\t| metric=\"{metric_name}\"'\n",
        "          f'\\n\\ttest_score uncalibrated: {metric_score:.4f}'\n",
        "          f'\\n\\ttest_score   calibrated: {metric_score_calibrated:.4f}'\n",
        "          f'\\n\\ttest_score        delta: {metric_score_calibrated-metric_score:.4f}')"
      ],
      "metadata": {
        "id": "251a1bf30667c186"
      },
      "id": "251a1bf30667c186"
    },
    {
      "cell_type": "markdown",
      "source": [
        "Instead of calibrating the decision threshold post-fit, you can have it automatically occur during the fit call by specifying the fit parameter `predictor.fit(..., calibrate_decision_threshold=True)`.\n",
        "\n",
        "Luckily, AutoGluon will automatically apply decision threshold calibration when beneficial, as the default value is `calibrate_decision_threshold=\"auto\"`. We recommend keeping this value as the default in most cases.\n",
        "\n",
        "Additional usage examples are below:"
      ],
      "metadata": {
        "collapsed": false,
        "id": "b6bbe09b403c54b9"
      },
      "id": "b6bbe09b403c54b9"
    },
    {
      "cell_type": "code",
      "execution_count": null,
      "outputs": [],
      "source": [
        "# Will use the decision_threshold specified in `predictor.decision_threshold`, can be set via `predictor.set_decision_threshold`\n",
        "# y_pred = predictor.predict(test_data)\n",
        "# y_pred_08 = predictor.predict(test_data, decision_threshold=0.8)  # Specify a specific threshold to use only for this predict\n",
        "\n",
        "# y_pred_proba = predictor.predict_proba(test_data)\n",
        "# y_pred = predictor.predict_from_proba(y_pred_proba)  # Identical output to calling .predict(test_data)\n",
        "# y_pred_08 = predictor.predict_from_proba(y_pred_proba, decision_threshold=0.8)  # Identical output to calling .predict(test_data, decision_threshold=0.8)"
      ],
      "metadata": {
        "id": "6e24e98242a6398a"
      },
      "id": "6e24e98242a6398a"
    },
    {
      "cell_type": "markdown",
      "id": "be2b3534",
      "metadata": {
        "id": "be2b3534"
      },
      "source": [
        "## Prediction options (inference)\n",
        "\n",
        "Even if you've started a new Python session since last calling `fit()`, you can still load a previously trained predictor from disk:"
      ]
    },
    {
      "cell_type": "code",
      "execution_count": null,
      "id": "67cc8c19",
      "metadata": {
        "id": "67cc8c19"
      },
      "outputs": [],
      "source": [
        "predictor = TabularPredictor.load(save_path)  # `predictor.path` is another way to get the relative path needed to later load predictor."
      ]
    },
    {
      "cell_type": "markdown",
      "id": "13759fc5",
      "metadata": {
        "id": "13759fc5"
      },
      "source": [
        "Above `save_path` is the same folder previously passed to `TabularPredictor`, in which all the trained models have been saved. You can train easily models on one machine and deploy them on another. Simply copy the `save_path` folder to the new machine and specify its new path in `TabularPredictor.load()`.\n",
        "\n",
        "To find out the required feature columns to make predictions, call `predictor.features()`:"
      ]
    },
    {
      "cell_type": "code",
      "execution_count": null,
      "id": "dc1d292a",
      "metadata": {
        "id": "dc1d292a"
      },
      "outputs": [],
      "source": [
        "predictor.features()"
      ]
    },
    {
      "cell_type": "markdown",
      "id": "91285570",
      "metadata": {
        "id": "91285570"
      },
      "source": [
        "We can make a prediction on an individual example rather than a full dataset:"
      ]
    },
    {
      "cell_type": "code",
      "execution_count": null,
      "id": "2b5df1ea",
      "metadata": {
        "id": "2b5df1ea"
      },
      "outputs": [],
      "source": [
        "datapoint = test_data_nolabel.iloc[[0]]  # Note: .iloc[0] won't work because it returns pandas Series instead of DataFrame\n",
        "print(datapoint)\n",
        "predictor.predict(datapoint)"
      ]
    },
    {
      "cell_type": "markdown",
      "id": "7f5e5d4c",
      "metadata": {
        "id": "7f5e5d4c"
      },
      "source": [
        "To output predicted class probabilities instead of predicted classes, you can use:"
      ]
    },
    {
      "cell_type": "code",
      "execution_count": null,
      "id": "a9c88edf",
      "metadata": {
        "id": "a9c88edf"
      },
      "outputs": [],
      "source": [
        "predictor.predict_proba(datapoint)  # returns a DataFrame that shows which probability corresponds to which class"
      ]
    },
    {
      "cell_type": "markdown",
      "id": "e118c312",
      "metadata": {
        "id": "e118c312"
      },
      "source": [
        "By default, `predict()` and `predict_proba()` will utilize the model that AutoGluon thinks is most accurate, which is usually an ensemble of many individual models. Here's how to see which model this is:"
      ]
    },
    {
      "cell_type": "code",
      "execution_count": null,
      "id": "357da7e2",
      "metadata": {
        "id": "357da7e2"
      },
      "outputs": [],
      "source": [
        "predictor.model_best"
      ]
    },
    {
      "cell_type": "markdown",
      "id": "06f47f3a",
      "metadata": {
        "id": "06f47f3a"
      },
      "source": [
        "We can instead specify a particular model to use for predictions (e.g. to reduce inference latency). Note that a 'model' in AutoGluon may refer to, for example, a single Neural Network, a bagged ensemble of many Neural Network copies trained on different training/validation splits, a weighted ensemble that aggregates the predictions of many other models, or a stacker model that operates on predictions output by other models. This is akin to viewing a Random Forest as one 'model' when it is in fact an ensemble of many decision trees.\n",
        "\n",
        "\n",
        "Before deciding which model to use, let's evaluate all of the models AutoGluon has previously trained on our test data:"
      ]
    },
    {
      "cell_type": "code",
      "execution_count": null,
      "id": "d5f02254",
      "metadata": {
        "id": "d5f02254"
      },
      "outputs": [],
      "source": [
        "predictor.leaderboard(test_data)"
      ]
    },
    {
      "cell_type": "markdown",
      "id": "11084a6a",
      "metadata": {
        "id": "11084a6a"
      },
      "source": [
        "The leaderboard shows each model's predictive performance on the test data (`score_test`) and validation data (`score_val`), as well as the time required to: produce predictions for the test data (`pred_time_val`), produce predictions on the validation data (`pred_time_val`), and train only this model (`fit_time`). Below, we show that a leaderboard can be produced without new data (just uses the data previously reserved for validation inside `fit`) and can display extra information about each model:"
      ]
    },
    {
      "cell_type": "code",
      "execution_count": null,
      "id": "2cd4b79f",
      "metadata": {
        "id": "2cd4b79f"
      },
      "outputs": [],
      "source": [
        "predictor.leaderboard(extra_info=True)"
      ]
    },
    {
      "cell_type": "markdown",
      "id": "13dff991",
      "metadata": {
        "id": "13dff991"
      },
      "source": [
        "The expanded leaderboard shows properties like how many features are used by each model (`num_features`), which other models are ancestors whose predictions are required inputs for each model (`ancestors`), and how much memory each model and all its ancestors would occupy if simultaneously persisted (`memory_size_w_ancestors`). See the [leaderboard documentation](../../api/autogluon.tabular.TabularPredictor.leaderboard.rst) for full details.\n",
        "\n",
        "To show scores for other metrics, you can specify the `extra_metrics` argument when passing in `test_data`:"
      ]
    },
    {
      "cell_type": "code",
      "execution_count": null,
      "id": "dc39b3b1",
      "metadata": {
        "id": "dc39b3b1"
      },
      "outputs": [],
      "source": [
        "predictor.leaderboard(test_data, extra_metrics=['accuracy', 'balanced_accuracy', 'log_loss'])"
      ]
    },
    {
      "cell_type": "markdown",
      "id": "b01083ae",
      "metadata": {
        "id": "b01083ae"
      },
      "source": [
        "Notice that `log_loss` scores are negative.\n",
        "This is because metrics in AutoGluon are always shown in `higher_is_better` form.\n",
        "This means that metrics such as `log_loss` and `root_mean_squared_error` will have their signs FLIPPED, and values will be negative.\n",
        "This is necessary to avoid the user needing to know the metric to understand if higher is better when looking at leaderboard.\n",
        "\n",
        "One additional caveat: It is possible that `log_loss` values can be `-inf` when computed via `extra_metrics`.\n",
        "This is because the models were not optimized with `log_loss` in mind during training and\n",
        "may have prediction probabilities giving a class `0` (particularly common with K-Nearest-Neighbors models).\n",
        "Because `log_loss` gives infinite error when the correct class was given `0` probability, this results in a score of `-inf`.\n",
        "It is therefore recommended that `log_loss` should not be used as a secondary metric to determine model quality.\n",
        "Either use `log_loss` as the `eval_metric` or avoid it altogether.\n",
        "\n",
        "Here's how to specify a particular model to use for prediction instead of AutoGluon's default model-choice:"
      ]
    },
    {
      "cell_type": "code",
      "execution_count": null,
      "id": "1f938d89",
      "metadata": {
        "id": "1f938d89"
      },
      "outputs": [],
      "source": [
        "i = 0  # index of model to use\n",
        "model_to_use = predictor.model_names()[i]\n",
        "model_pred = predictor.predict(datapoint, model=model_to_use)\n",
        "print(\"Prediction from %s model: %s\" % (model_to_use, model_pred.iloc[0]))"
      ]
    },
    {
      "cell_type": "markdown",
      "id": "775cb4a5",
      "metadata": {
        "id": "775cb4a5"
      },
      "source": [
        "We can easily access various information about the trained predictor or a particular model:"
      ]
    },
    {
      "cell_type": "code",
      "execution_count": null,
      "id": "5cd13fed",
      "metadata": {
        "id": "5cd13fed"
      },
      "outputs": [],
      "source": [
        "all_models = predictor.model_names()\n",
        "model_to_use = all_models[i]\n",
        "specific_model = predictor._trainer.load_model(model_to_use)\n",
        "\n",
        "# Objects defined below are dicts of various information (not printed here as they are quite large):\n",
        "model_info = specific_model.get_info()\n",
        "predictor_information = predictor.info()"
      ]
    },
    {
      "cell_type": "markdown",
      "id": "640a8c38",
      "metadata": {
        "id": "640a8c38"
      },
      "source": [
        "The `predictor` also remembers what metric predictions should be evaluated with, which can be done with ground truth labels as follows:"
      ]
    },
    {
      "cell_type": "code",
      "execution_count": null,
      "id": "39b53a65",
      "metadata": {
        "id": "39b53a65"
      },
      "outputs": [],
      "source": [
        "y_pred_proba = predictor.predict_proba(test_data_nolabel)\n",
        "perf = predictor.evaluate_predictions(y_true=y_test, y_pred=y_pred_proba)"
      ]
    },
    {
      "cell_type": "markdown",
      "id": "f2932b36",
      "metadata": {
        "id": "f2932b36"
      },
      "source": [
        "Since the label columns remains in the `test_data` DataFrame, we can instead use the shorthand:"
      ]
    },
    {
      "cell_type": "code",
      "execution_count": null,
      "id": "5494aae6",
      "metadata": {
        "id": "5494aae6"
      },
      "outputs": [],
      "source": [
        "perf = predictor.evaluate(test_data)"
      ]
    },
    {
      "cell_type": "markdown",
      "id": "02223a4e",
      "metadata": {
        "id": "02223a4e"
      },
      "source": [
        "## Interpretability (feature importance)\n",
        "\n",
        "To better understand our trained predictor, we can estimate the overall importance of each feature:"
      ]
    },
    {
      "cell_type": "code",
      "execution_count": null,
      "id": "82ffd4bd",
      "metadata": {
        "id": "82ffd4bd"
      },
      "outputs": [],
      "source": [
        "predictor.feature_importance(test_data)"
      ]
    },
    {
      "cell_type": "markdown",
      "id": "954655e5",
      "metadata": {
        "id": "954655e5"
      },
      "source": [
        "Computed via [permutation-shuffling](https://explained.ai/rf-importance/), these feature importance scores quantify the drop in predictive performance (of the already trained predictor) when one column's values are randomly shuffled across rows. The top features in this list contribute most to AutoGluon's accuracy (for predicting when/if a patient will be readmitted to the hospital). Features with non-positive importance score hardly contribute to the predictor's accuracy, or may even be actively harmful to include in the data (consider removing these features from your data and calling `fit` again). These scores facilitate interpretability of the predictor's global behavior (which features it relies on for *all* predictions).\n",
        "To get [local explanations](https://christophm.github.io/interpretable-ml-book/taxonomy-of-interpretability-methods.html) regarding which features influence a *particular* prediction, check out the [example notebooks](https://github.com/autogluon/autogluon/tree/master/examples/tabular/interpret) for explaining particular AutoGluon predictions using [Shapely values](https://github.com/slundberg/shap/).\n",
        "\n",
        "Before making judgement on if AutoGluon is more or less interpretable than another solution, we recommend reading [The Mythos of Model Interpretability](https://dl.acm.org/doi/pdf/10.1145/3236386.3241340) by Zachary Lipton, which covers why often-claimed interpretable models such as trees and linear models are rarely meaningfully more interpretable than more advanced models.\n",
        "\n",
        "## Accelerating inference\n",
        "\n",
        "We describe multiple ways to reduce the time it takes for AutoGluon to produce predictions.\n",
        "\n",
        "Before providing code examples, it is important to understand that\n",
        "there are several ways to accelerate inference in AutoGluon. The table below lists the options in order of priority.\n",
        "\n",
        "| Optimization                      | Inference Speedup                                                                                     | Cost                              | Notes                                                                                                                                                                                  |\n",
        "|:----------------------------------|:------------------------------------------------------------------------------------------------------|:----------------------------------|:---------------------------------------------------------------------------------------------------------------------------------------------------------------------------------------|\n",
        "| refit_full                        | At least 8x+, up to 160x (requires bagging)                                                           | -Quality, +FitTime                | Only provides speedup with bagging enabled.                                                                                                                                            |\n",
        "| persist                           | Up to 10x in online-inference                                                                         | ++MemoryUsage                     | If memory is not sufficient to persist model, speedup is not gained. Speedup is most effective in online-inference and is not relevant in batch inference.                             |\n",
        "| infer_limit                       | Configurable, ~up to 50x                                                                              | -Quality (Relative to speedup)    | If bagging is enabled, always use refit_full if using infer_limit.                                                                                                                     |\n",
        "| distill                           | ~Equals combined speedup of refit_full and infer_limit set to extreme values                          | --Quality, ++FitTime              | Not compatible with refit_full and infer_limit.                                                                                                                                        |\n",
        "| feature pruning                   | Typically at most 1.5x. More if willing to lower quality significantly.                               | -Quality?, ++FitTime              | Dependent on the existence of unimportant features in data. Call `predictor.feature_importance(test_data)` to gauge which features could be removed.                                   |\n",
        "| use faster hardware               | Usually at most 3x. Depends on hardware (ignoring GPU).                                               | +Hardware                         | As an example, an EC2 c6i.2xlarge is ~1.6x faster than an m5.2xlarge for a similar price. Laptops in particular might be slow compared to cloud instances.                             |\n",
        "| manual hyperparameters adjustment | Usually at most 2x assuming infer_limit is already specified.                                         | ---Quality?, +++UserMLExpertise   | Can be very complicated and is not recommended. Potential ways to get speedups this way is to reduce the number of trees in LightGBM, XGBoost, CatBoost, RandomForest, and ExtraTrees. |\n",
        "| manual data preprocessing         | Usually at most 1.2x assuming all other optimizations are specified and setting is online-inference.  | ++++UserMLExpertise, ++++UserCode | Only relevant for online-inference. This is not recommended as AutoGluon's default preprocessing is highly optimized.                                                                  |\n",
        "\n",
        "If bagging is enabled (num_bag_folds>0 or num_stack_levels>0 or using 'best_quality' preset), the order of inference optimizations should be:  \n",
        "1. refit_full  \n",
        "2. persist  \n",
        "3. infer_limit  \n",
        "\n",
        "If bagging is not enabled (num_bag_folds=0, num_stack_levels=0), the order of inference optimizations should be:  \n",
        "1. persist  \n",
        "2. infer_limit  \n",
        "\n",
        "If following these recommendations does not lead to a sufficiently fast model, you may consider the more advanced options in the table.\n",
        "\n",
        "### Keeping models in memory\n",
        "\n",
        "By default, AutoGluon loads models into memory one at a time and only when they are needed for prediction. This strategy is robust for large stacked/bagged ensembles, but leads to slower prediction times. If you plan to repeatedly make predictions (e.g. on new datapoints one at a time rather than one large test dataset), you can first specify that all models required for inference should be loaded into memory as follows:"
      ]
    },
    {
      "cell_type": "code",
      "execution_count": null,
      "id": "e2eced22",
      "metadata": {
        "id": "e2eced22"
      },
      "outputs": [],
      "source": [
        "predictor.persist()\n",
        "\n",
        "num_test = 20\n",
        "preds = np.array(['']*num_test, dtype='object')\n",
        "for i in range(num_test):\n",
        "    datapoint = test_data_nolabel.iloc[[i]]\n",
        "    pred_numpy = predictor.predict(datapoint, as_pandas=False)\n",
        "    preds[i] = pred_numpy[0]\n",
        "\n",
        "perf = predictor.evaluate_predictions(y_test[:num_test], preds, auxiliary_metrics=True)\n",
        "print(\"Predictions: \", preds)\n",
        "\n",
        "predictor.unpersist()  # free memory by clearing models, future predict() calls will load models from disk"
      ]
    },
    {
      "cell_type": "markdown",
      "id": "ec079f09",
      "metadata": {
        "id": "ec079f09"
      },
      "source": [
        "You can alternatively specify a particular model to persist via the `models` argument of `persist()`, or simply set `models='all'` to simultaneously load every single model that was trained during `fit`.\n",
        "\n",
        "### Inference speed as a fit constraint\n",
        "\n",
        "If you know your latency constraint prior to fitting the predictor, you can specify it explicitly as a fit argument.\n",
        "AutoGluon will then automatically train models in a fashion that attempts to satisfy the constraint.\n",
        "\n",
        "This constraint has two components: `infer_limit` and `infer_limit_batch_size`:  \n",
        "- `infer_limit` is the time in seconds to predict 1 row of data.\n",
        "For example, `infer_limit=0.05` means 50 ms per row of data,\n",
        "or 20 rows / second throughput.  \n",
        "- `infer_limit_batch_size` is the amount of rows passed at once to predict when calculating per-row speed.\n",
        "This is very important because `infer_limit_batch_size=1` (online-inference) is highly suboptimal as\n",
        "various operations have a fixed cost overhead regardless of data size. If you can pass your test data in bulk,\n",
        "you should specify `infer_limit_batch_size=10000`."
      ]
    },
    {
      "cell_type": "code",
      "execution_count": null,
      "id": "c845d3cd",
      "metadata": {
        "id": "c845d3cd"
      },
      "outputs": [],
      "source": [
        "# At most 0.05 ms per row (20000 rows per second throughput)\n",
        "infer_limit = 0.00005\n",
        "# adhere to infer_limit with batches of size 10000 (batch-inference, easier to satisfy infer_limit)\n",
        "infer_limit_batch_size = 10000\n",
        "# adhere to infer_limit with batches of size 1 (online-inference, much harder to satisfy infer_limit)\n",
        "# infer_limit_batch_size = 1  # Note that infer_limit<0.02 when infer_limit_batch_size=1 can be difficult to satisfy.\n",
        "predictor_infer_limit = TabularPredictor(label=label, eval_metric=metric).fit(\n",
        "    train_data=train_data,\n",
        "    time_limit=30,\n",
        "    infer_limit=infer_limit,\n",
        "    infer_limit_batch_size=infer_limit_batch_size,\n",
        ")\n",
        "\n",
        "# NOTE: If bagging was enabled, it is important to call refit_full at this stage.\n",
        "#  infer_limit assumes that the user will call refit_full after fit.\n",
        "# predictor_infer_limit.refit_full()\n",
        "\n",
        "# NOTE: To align with inference speed calculated during fit, models must be persisted.\n",
        "predictor_infer_limit.persist()\n",
        "# Below is an optimized version that only persists the minimum required models for prediction.\n",
        "# predictor_infer_limit.persist('best')\n",
        "\n",
        "predictor_infer_limit.leaderboard()"
      ]
    },
    {
      "cell_type": "markdown",
      "id": "a69ab0da",
      "metadata": {
        "id": "a69ab0da"
      },
      "source": [
        "Now we can test the inference speed of the final model and check if it satisfies the inference constraints."
      ]
    },
    {
      "cell_type": "code",
      "execution_count": null,
      "id": "0a668eac",
      "metadata": {
        "id": "0a668eac"
      },
      "outputs": [],
      "source": [
        "test_data_batch = test_data.sample(infer_limit_batch_size, replace=True, ignore_index=True)\n",
        "\n",
        "import time\n",
        "time_start = time.time()\n",
        "predictor_infer_limit.predict(test_data_batch)\n",
        "time_end = time.time()\n",
        "\n",
        "infer_time_per_row = (time_end - time_start) / len(test_data_batch)\n",
        "rows_per_second = 1 / infer_time_per_row\n",
        "infer_time_per_row_ratio = infer_time_per_row / infer_limit\n",
        "is_constraint_satisfied = infer_time_per_row_ratio <= 1\n",
        "\n",
        "print(f'Model is able to predict {round(rows_per_second, 1)} rows per second. (User-specified Throughput = {1 / infer_limit})')\n",
        "print(f'Model uses {round(infer_time_per_row_ratio * 100, 1)}% of infer_limit time per row.')\n",
        "print(f'Model satisfies inference constraint: {is_constraint_satisfied}')"
      ]
    },
    {
      "cell_type": "markdown",
      "id": "9d988fa3",
      "metadata": {
        "id": "9d988fa3"
      },
      "source": [
        "### Using smaller ensemble or faster model for prediction\n",
        "\n",
        "Without having to retrain any models, one can construct alternative ensembles that aggregate individual models' predictions with different weighting schemes. These ensembles become smaller (and hence faster for prediction) if they assign nonzero weight to less models. You can produce a wide variety of ensembles with different accuracy-speed tradeoffs like this:"
      ]
    },
    {
      "cell_type": "code",
      "execution_count": null,
      "id": "1dcda6fd",
      "metadata": {
        "id": "1dcda6fd"
      },
      "outputs": [],
      "source": [
        "additional_ensembles = predictor.fit_weighted_ensemble(expand_pareto_frontier=True)\n",
        "print(\"Alternative ensembles you can use for prediction:\", additional_ensembles)\n",
        "\n",
        "predictor.leaderboard(only_pareto_frontier=True)"
      ]
    },
    {
      "cell_type": "markdown",
      "id": "edd8fe52",
      "metadata": {
        "id": "edd8fe52"
      },
      "source": [
        "The resulting leaderboard will contain the most accurate model for a given inference-latency. You can select whichever model exhibits acceptable latency from the leaderboard and use it for prediction."
      ]
    },
    {
      "cell_type": "code",
      "execution_count": null,
      "id": "a757a79b",
      "metadata": {
        "id": "a757a79b"
      },
      "outputs": [],
      "source": [
        "model_for_prediction = additional_ensembles[0]\n",
        "predictions = predictor.predict(test_data, model=model_for_prediction)\n",
        "predictor.delete_models(models_to_delete=additional_ensembles, dry_run=False)  # delete these extra models so they don't affect rest of tutorial"
      ]
    },
    {
      "cell_type": "markdown",
      "id": "9158cc13",
      "metadata": {
        "id": "9158cc13"
      },
      "source": [
        "### Collapsing bagged ensembles via refit_full\n",
        "\n",
        "For an ensemble predictor trained with bagging (as done above), recall there are ~10 bagged copies of each individual model trained on different train/validation folds. We can collapse this bag of ~10 models into a single model that's fit to the full dataset, which can greatly reduce its memory/latency requirements (but may also reduce accuracy). Below we refit such a model for each original model but you can alternatively do this for just a particular model by specifying the `model` argument of `refit_full()`."
      ]
    },
    {
      "cell_type": "code",
      "execution_count": null,
      "id": "fd8ea890",
      "metadata": {
        "id": "fd8ea890"
      },
      "outputs": [],
      "source": [
        "refit_model_map = predictor.refit_full()\n",
        "print(\"Name of each refit-full model corresponding to a previous bagged ensemble:\")\n",
        "print(refit_model_map)\n",
        "predictor.leaderboard(test_data)"
      ]
    },
    {
      "cell_type": "markdown",
      "id": "ee8a611c",
      "metadata": {
        "id": "ee8a611c"
      },
      "source": [
        "This adds the refit-full models to the leaderboard and we can opt to use any of them for prediction just like any other model. Note `pred_time_test` and `pred_time_val` list the time taken to produce predictions with each model (in seconds) on the test/validation data. Since the refit-full models were trained using all of the data, there is no internal validation score (`score_val`) available for them. You can also call `refit_full()` with non-bagged models to refit the same models to your full dataset (there won't be memory/latency gains in this case but test accuracy may improve).\n",
        "\n",
        "### Model distillation\n",
        "\n",
        "While computationally-favorable, single individual models will usually have lower accuracy than weighted/stacked/bagged ensembles. [Model Distillation](https://arxiv.org/abs/2006.14284) offers one way to retain the computational benefits of a single model, while enjoying some of the accuracy-boost that comes with ensembling. The idea is to train the individual model (which we can call the student) to mimic the predictions of the full stack ensemble (the teacher). Like `refit_full()`, the `distill()` function will produce additional models we can opt to use for prediction."
      ]
    },
    {
      "cell_type": "code",
      "execution_count": null,
      "id": "13d8854f",
      "metadata": {
        "id": "13d8854f"
      },
      "outputs": [],
      "source": [
        "student_models = predictor.distill(time_limit=30)  # specify much longer time limit in real applications\n",
        "print(student_models)\n",
        "preds_student = predictor.predict(test_data_nolabel, model=student_models[0])\n",
        "print(f\"predictions from {student_models[0]}:\", list(preds_student)[:5])\n",
        "predictor.leaderboard(test_data)"
      ]
    },
    {
      "cell_type": "markdown",
      "id": "ba4a36ab",
      "metadata": {
        "id": "ba4a36ab"
      },
      "source": [
        "### Faster presets or hyperparameters\n",
        "\n",
        "Instead of trying to speed up a cumbersome trained model at prediction time, if you know inference latency or memory will be an issue at the outset, then you can adjust the training process accordingly to ensure `fit()` does not produce unwieldy models.\n",
        "\n",
        "One option is to specify more lightweight `presets`:"
      ]
    },
    {
      "cell_type": "code",
      "execution_count": null,
      "id": "3bd5e5e4",
      "metadata": {
        "id": "3bd5e5e4"
      },
      "outputs": [],
      "source": [
        "presets = ['good_quality', 'optimize_for_deployment']\n",
        "predictor_light = TabularPredictor(label=label, eval_metric=metric).fit(train_data, presets=presets, time_limit=30)"
      ]
    },
    {
      "cell_type": "markdown",
      "id": "b8d97180",
      "metadata": {
        "id": "b8d97180"
      },
      "source": [
        "Another option is to specify more lightweight hyperparameters:"
      ]
    },
    {
      "cell_type": "code",
      "execution_count": null,
      "id": "3e808d32",
      "metadata": {
        "id": "3e808d32"
      },
      "outputs": [],
      "source": [
        "predictor_light = TabularPredictor(label=label, eval_metric=metric).fit(train_data, hyperparameters='very_light', time_limit=30)"
      ]
    },
    {
      "cell_type": "markdown",
      "id": "d49c182b",
      "metadata": {
        "id": "d49c182b"
      },
      "source": [
        "Here you can set `hyperparameters` to either 'light', 'very_light', or 'toy' to obtain progressively smaller (but less accurate) models and predictors. Advanced users may instead try manually specifying particular models' hyperparameters in order to make them faster/smaller.\n",
        "\n",
        "Finally, you may also exclude specific unwieldy models from being trained at all. Below we exclude models that tend to be slower (K Nearest Neighbors, Neural Networks):"
      ]
    },
    {
      "cell_type": "code",
      "execution_count": null,
      "id": "ae2298e4",
      "metadata": {
        "id": "ae2298e4"
      },
      "outputs": [],
      "source": [
        "excluded_model_types = ['KNN', 'NN_TORCH']\n",
        "predictor_light = TabularPredictor(label=label, eval_metric=metric).fit(train_data, excluded_model_types=excluded_model_types, time_limit=30)"
      ]
    },
    {
      "cell_type": "markdown",
      "id": "7cd7ac48",
      "metadata": {
        "id": "7cd7ac48"
      },
      "source": [
        "### (Advanced) Cache preprocessed data\n",
        "\n",
        "If you are repeatedly predicting on the same data you can cache the preprocessed version of the data and\n",
        "directly send the preprocessed data to `predictor.predict` for faster inference:"
      ]
    },
    {
      "cell_type": "markdown",
      "id": "4aa0c796",
      "metadata": {
        "id": "4aa0c796"
      },
      "source": [
        "```\n",
        "test_data_preprocessed = predictor.transform_features(test_data)\n",
        "\n",
        "# The following call will be faster than a normal predict call because we are skipping the preprocessing stage.\n",
        "predictions = predictor.predict(test_data_preprocessed, transform_features=False)\n",
        "```\n"
      ]
    },
    {
      "cell_type": "markdown",
      "id": "782040dc",
      "metadata": {
        "id": "782040dc"
      },
      "source": [
        "Note that this is only useful in situations where you are repeatedly predicting on the same data.\n",
        "If this significantly speeds up your use-case, consider whether your current approach makes sense\n",
        "or if a cache on the predictions is a better solution.\n",
        "\n",
        "### (Advanced) Disable preprocessing\n",
        "\n",
        "If you would rather do data preprocessing outside of TabularPredictor,\n",
        "you can disable TabularPredictor's preprocessing entirely via:"
      ]
    },
    {
      "cell_type": "markdown",
      "id": "15ca510b",
      "metadata": {
        "id": "15ca510b"
      },
      "source": [
        "```\n",
        "predictor.fit(..., feature_generator=None, feature_metadata=YOUR_CUSTOM_FEATURE_METADATA)\n",
        "```\n"
      ]
    },
    {
      "cell_type": "markdown",
      "id": "6d32cbe6",
      "metadata": {
        "id": "6d32cbe6"
      },
      "source": [
        "Be warned that this removes ALL guardrails on data sanitization.\n",
        "It is very likely that you will run into errors doing this unless you are very familiar with AutoGluon.\n",
        "\n",
        "One instance where this can be helpful is if you have many problems\n",
        "that re-use the exact same data with the exact same features. If you had 30 tasks that re-use the same features,\n",
        "you could fit a `autogluon.features` feature generator once on the data, and then when you need to\n",
        "predict on the 30 tasks, preprocess the data only once and then send the preprocessed data to all 30 predictors.\n",
        "\n",
        "\n",
        "## If you encounter memory issues\n",
        "\n",
        "To reduce memory usage during training, you may try each of the following strategies individually or combinations of them (these may harm accuracy):\n",
        "\n",
        "- In `fit()`, set `excluded_model_types = ['KNN', 'XT' ,'RF']` (or some subset of these models).\n",
        "- Try different `presets` in `fit()`.\n",
        "- In `fit()`, set `hyperparameters = 'light'` or `hyperparameters = 'very_light'`.\n",
        "- Text fields in your table require substantial memory for N-gram featurization. To mitigate this in `fit()`, you can either: (1) add `'ignore_text'` to your `presets` list (to ignore text features), or (2) specify the argument:"
      ]
    },
    {
      "cell_type": "markdown",
      "id": "d30ebcf6",
      "metadata": {
        "id": "d30ebcf6"
      },
      "source": [
        "```\n",
        "from sklearn.feature_extraction.text import CountVectorizer\n",
        "from autogluon.features.generators import AutoMLPipelineFeatureGenerator\n",
        "feature_generator = AutoMLPipelineFeatureGenerator(vectorizer=CountVectorizer(min_df=30, ngram_range=(1, 3), max_features=MAX_NGRAM, dtype=np.uint8))\n",
        "```\n"
      ]
    },
    {
      "cell_type": "markdown",
      "id": "6f1b86fb",
      "metadata": {
        "id": "6f1b86fb"
      },
      "source": [
        "for example using `MAX_NGRAM = 1000` (try various values under 10000 to reduce the number of N-gram features used to represent each text field)\n",
        "\n",
        "In addition to reducing memory usage, many of the above strategies can also be used to reduce training times.\n",
        "\n",
        "To reduce memory usage during inference:\n",
        "\n",
        "- If trying to produce predictions for a large test dataset, break the test data into smaller chunks as demonstrated in [FAQ](tabular-faq.ipynb).\n",
        "\n",
        "- If models have been previously persisted in memory but inference-speed is not a major concern, call `predictor.unpersist()`.\n",
        "\n",
        "- If models have been previously persisted in memory, bagging was used in `fit()`, and inference-speed is a concern: call `predictor.refit_full()` and use one of the refit-full models for prediction (ensure this is the only model persisted in memory).\n",
        "\n",
        "\n",
        "\n",
        "## If you encounter disk space issues\n",
        "\n",
        "To reduce disk usage, you may try each of the following strategies individually or combinations of them:\n",
        "\n",
        "- Make sure to delete all `predictor.path` folders from previous `fit()` runs! These can eat up your free space if you call `fit()` many times. If you didn't specify `path`, AutoGluon still automatically saved its models to a folder called: \"AutogluonModels/ag-[TIMESTAMP]\", where TIMESTAMP records when `fit()` was called, so make sure to also delete these folders if you run low on free space.\n",
        "\n",
        "- Call `predictor.save_space()` to delete auxiliary files produced during `fit()`.\n",
        "\n",
        "- Call `predictor.delete_models(models_to_keep='best', dry_run=False)` if you only intend to use this predictor for inference going forward (will delete files required for non-prediction-related functionality like `fit_summary`).\n",
        "\n",
        "- In `fit()`, you can add `'optimize_for_deployment'` to the `presets` list, which will automatically invoke the previous two strategies after training.\n",
        "\n",
        "- Most of the above strategies to reduce memory usage will also reduce disk usage (but may harm accuracy).\n",
        "\n",
        "\n",
        "## References\n",
        "\n",
        "The following paper describes how AutoGluon internally operates on tabular data:\n",
        "\n",
        "Erickson et al. [AutoGluon-Tabular: Robust and Accurate AutoML for Structured Data](https://arxiv.org/abs/2003.06505). *Arxiv*, 2020.\n",
        "\n",
        "## Next Steps\n",
        "\n",
        "If you are interested in deployment optimization, refer to the [Predicting Columns in a Table - Deployment Optimization](advanced/tabular-deployment.ipynb) tutorial."
      ]
    }
  ],
  "metadata": {
    "language_info": {
      "name": "python"
    },
    "colab": {
      "provenance": []
    },
    "kernelspec": {
      "name": "python3",
      "display_name": "Python 3"
    },
    "widgets": {
      "application/vnd.jupyter.widget-state+json": {
        "c81c484739b044979512e65d3438c6cc": {
          "model_module": "@jupyter-widgets/controls",
          "model_name": "HBoxModel",
          "model_module_version": "1.5.0",
          "state": {
            "_dom_classes": [],
            "_model_module": "@jupyter-widgets/controls",
            "_model_module_version": "1.5.0",
            "_model_name": "HBoxModel",
            "_view_count": null,
            "_view_module": "@jupyter-widgets/controls",
            "_view_module_version": "1.5.0",
            "_view_name": "HBoxView",
            "box_style": "",
            "children": [
              "IPY_MODEL_c2b5bb657ab14cdd954a77227364a691",
              "IPY_MODEL_e31ab5da94a74c2b9118879aa3d20332",
              "IPY_MODEL_a5bd70abe32c411f8ac1f5640cc1d2e9"
            ],
            "layout": "IPY_MODEL_ce2340c0f19741b5be102029c876a03d"
          }
        },
        "c2b5bb657ab14cdd954a77227364a691": {
          "model_module": "@jupyter-widgets/controls",
          "model_name": "HTMLModel",
          "model_module_version": "1.5.0",
          "state": {
            "_dom_classes": [],
            "_model_module": "@jupyter-widgets/controls",
            "_model_module_version": "1.5.0",
            "_model_name": "HTMLModel",
            "_view_count": null,
            "_view_module": "@jupyter-widgets/controls",
            "_view_module_version": "1.5.0",
            "_view_name": "HTMLView",
            "description": "",
            "description_tooltip": null,
            "layout": "IPY_MODEL_309841a29d174283a5140266e1a4c035",
            "placeholder": "​",
            "style": "IPY_MODEL_8744213132d94bef99ba39a341e01cc4",
            "value": "100%"
          }
        },
        "e31ab5da94a74c2b9118879aa3d20332": {
          "model_module": "@jupyter-widgets/controls",
          "model_name": "FloatProgressModel",
          "model_module_version": "1.5.0",
          "state": {
            "_dom_classes": [],
            "_model_module": "@jupyter-widgets/controls",
            "_model_module_version": "1.5.0",
            "_model_name": "FloatProgressModel",
            "_view_count": null,
            "_view_module": "@jupyter-widgets/controls",
            "_view_module_version": "1.5.0",
            "_view_name": "ProgressView",
            "bar_style": "success",
            "description": "",
            "description_tooltip": null,
            "layout": "IPY_MODEL_1f44ad8c8c604fc186d7a72a7cafe06c",
            "max": 5,
            "min": 0,
            "orientation": "horizontal",
            "style": "IPY_MODEL_589e8539b48a4e19af00664821d17627",
            "value": 5
          }
        },
        "a5bd70abe32c411f8ac1f5640cc1d2e9": {
          "model_module": "@jupyter-widgets/controls",
          "model_name": "HTMLModel",
          "model_module_version": "1.5.0",
          "state": {
            "_dom_classes": [],
            "_model_module": "@jupyter-widgets/controls",
            "_model_module_version": "1.5.0",
            "_model_name": "HTMLModel",
            "_view_count": null,
            "_view_module": "@jupyter-widgets/controls",
            "_view_module_version": "1.5.0",
            "_view_name": "HTMLView",
            "description": "",
            "description_tooltip": null,
            "layout": "IPY_MODEL_26bb025e08334d849e1b67b986bc4210",
            "placeholder": "​",
            "style": "IPY_MODEL_02ee2b34197b403aad27986dcb49090b",
            "value": " 5/5 [00:15&lt;00:00,  1.92s/it]"
          }
        },
        "ce2340c0f19741b5be102029c876a03d": {
          "model_module": "@jupyter-widgets/base",
          "model_name": "LayoutModel",
          "model_module_version": "1.2.0",
          "state": {
            "_model_module": "@jupyter-widgets/base",
            "_model_module_version": "1.2.0",
            "_model_name": "LayoutModel",
            "_view_count": null,
            "_view_module": "@jupyter-widgets/base",
            "_view_module_version": "1.2.0",
            "_view_name": "LayoutView",
            "align_content": null,
            "align_items": null,
            "align_self": null,
            "border": null,
            "bottom": null,
            "display": null,
            "flex": null,
            "flex_flow": null,
            "grid_area": null,
            "grid_auto_columns": null,
            "grid_auto_flow": null,
            "grid_auto_rows": null,
            "grid_column": null,
            "grid_gap": null,
            "grid_row": null,
            "grid_template_areas": null,
            "grid_template_columns": null,
            "grid_template_rows": null,
            "height": null,
            "justify_content": null,
            "justify_items": null,
            "left": null,
            "margin": null,
            "max_height": null,
            "max_width": null,
            "min_height": null,
            "min_width": null,
            "object_fit": null,
            "object_position": null,
            "order": null,
            "overflow": null,
            "overflow_x": null,
            "overflow_y": null,
            "padding": null,
            "right": null,
            "top": null,
            "visibility": null,
            "width": null
          }
        },
        "309841a29d174283a5140266e1a4c035": {
          "model_module": "@jupyter-widgets/base",
          "model_name": "LayoutModel",
          "model_module_version": "1.2.0",
          "state": {
            "_model_module": "@jupyter-widgets/base",
            "_model_module_version": "1.2.0",
            "_model_name": "LayoutModel",
            "_view_count": null,
            "_view_module": "@jupyter-widgets/base",
            "_view_module_version": "1.2.0",
            "_view_name": "LayoutView",
            "align_content": null,
            "align_items": null,
            "align_self": null,
            "border": null,
            "bottom": null,
            "display": null,
            "flex": null,
            "flex_flow": null,
            "grid_area": null,
            "grid_auto_columns": null,
            "grid_auto_flow": null,
            "grid_auto_rows": null,
            "grid_column": null,
            "grid_gap": null,
            "grid_row": null,
            "grid_template_areas": null,
            "grid_template_columns": null,
            "grid_template_rows": null,
            "height": null,
            "justify_content": null,
            "justify_items": null,
            "left": null,
            "margin": null,
            "max_height": null,
            "max_width": null,
            "min_height": null,
            "min_width": null,
            "object_fit": null,
            "object_position": null,
            "order": null,
            "overflow": null,
            "overflow_x": null,
            "overflow_y": null,
            "padding": null,
            "right": null,
            "top": null,
            "visibility": null,
            "width": null
          }
        },
        "8744213132d94bef99ba39a341e01cc4": {
          "model_module": "@jupyter-widgets/controls",
          "model_name": "DescriptionStyleModel",
          "model_module_version": "1.5.0",
          "state": {
            "_model_module": "@jupyter-widgets/controls",
            "_model_module_version": "1.5.0",
            "_model_name": "DescriptionStyleModel",
            "_view_count": null,
            "_view_module": "@jupyter-widgets/base",
            "_view_module_version": "1.2.0",
            "_view_name": "StyleView",
            "description_width": ""
          }
        },
        "1f44ad8c8c604fc186d7a72a7cafe06c": {
          "model_module": "@jupyter-widgets/base",
          "model_name": "LayoutModel",
          "model_module_version": "1.2.0",
          "state": {
            "_model_module": "@jupyter-widgets/base",
            "_model_module_version": "1.2.0",
            "_model_name": "LayoutModel",
            "_view_count": null,
            "_view_module": "@jupyter-widgets/base",
            "_view_module_version": "1.2.0",
            "_view_name": "LayoutView",
            "align_content": null,
            "align_items": null,
            "align_self": null,
            "border": null,
            "bottom": null,
            "display": null,
            "flex": null,
            "flex_flow": null,
            "grid_area": null,
            "grid_auto_columns": null,
            "grid_auto_flow": null,
            "grid_auto_rows": null,
            "grid_column": null,
            "grid_gap": null,
            "grid_row": null,
            "grid_template_areas": null,
            "grid_template_columns": null,
            "grid_template_rows": null,
            "height": null,
            "justify_content": null,
            "justify_items": null,
            "left": null,
            "margin": null,
            "max_height": null,
            "max_width": null,
            "min_height": null,
            "min_width": null,
            "object_fit": null,
            "object_position": null,
            "order": null,
            "overflow": null,
            "overflow_x": null,
            "overflow_y": null,
            "padding": null,
            "right": null,
            "top": null,
            "visibility": null,
            "width": null
          }
        },
        "589e8539b48a4e19af00664821d17627": {
          "model_module": "@jupyter-widgets/controls",
          "model_name": "ProgressStyleModel",
          "model_module_version": "1.5.0",
          "state": {
            "_model_module": "@jupyter-widgets/controls",
            "_model_module_version": "1.5.0",
            "_model_name": "ProgressStyleModel",
            "_view_count": null,
            "_view_module": "@jupyter-widgets/base",
            "_view_module_version": "1.2.0",
            "_view_name": "StyleView",
            "bar_color": null,
            "description_width": ""
          }
        },
        "26bb025e08334d849e1b67b986bc4210": {
          "model_module": "@jupyter-widgets/base",
          "model_name": "LayoutModel",
          "model_module_version": "1.2.0",
          "state": {
            "_model_module": "@jupyter-widgets/base",
            "_model_module_version": "1.2.0",
            "_model_name": "LayoutModel",
            "_view_count": null,
            "_view_module": "@jupyter-widgets/base",
            "_view_module_version": "1.2.0",
            "_view_name": "LayoutView",
            "align_content": null,
            "align_items": null,
            "align_self": null,
            "border": null,
            "bottom": null,
            "display": null,
            "flex": null,
            "flex_flow": null,
            "grid_area": null,
            "grid_auto_columns": null,
            "grid_auto_flow": null,
            "grid_auto_rows": null,
            "grid_column": null,
            "grid_gap": null,
            "grid_row": null,
            "grid_template_areas": null,
            "grid_template_columns": null,
            "grid_template_rows": null,
            "height": null,
            "justify_content": null,
            "justify_items": null,
            "left": null,
            "margin": null,
            "max_height": null,
            "max_width": null,
            "min_height": null,
            "min_width": null,
            "object_fit": null,
            "object_position": null,
            "order": null,
            "overflow": null,
            "overflow_x": null,
            "overflow_y": null,
            "padding": null,
            "right": null,
            "top": null,
            "visibility": null,
            "width": null
          }
        },
        "02ee2b34197b403aad27986dcb49090b": {
          "model_module": "@jupyter-widgets/controls",
          "model_name": "DescriptionStyleModel",
          "model_module_version": "1.5.0",
          "state": {
            "_model_module": "@jupyter-widgets/controls",
            "_model_module_version": "1.5.0",
            "_model_name": "DescriptionStyleModel",
            "_view_count": null,
            "_view_module": "@jupyter-widgets/base",
            "_view_module_version": "1.2.0",
            "_view_name": "StyleView",
            "description_width": ""
          }
        }
      }
    }
  },
  "nbformat": 4,
  "nbformat_minor": 5
}